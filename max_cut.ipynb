{
 "cells": [
  {
   "cell_type": "code",
   "execution_count": 64,
   "metadata": {},
   "outputs": [
    {
     "name": "stdout",
     "output_type": "stream",
     "text": [
      "[[0 0 0 1 1 0 1 1 0 1]\n",
      " [0 0 1 1 0 1 0 0 1 0]\n",
      " [0 1 0 0 1 0 1 1 1 1]\n",
      " [1 1 0 0 1 1 0 0 1 1]\n",
      " [1 0 1 1 0 0 0 1 1 1]\n",
      " [0 1 0 1 0 0 0 0 0 1]\n",
      " [1 0 1 0 0 0 0 1 1 1]\n",
      " [1 0 1 0 1 0 1 0 0 1]\n",
      " [0 1 1 1 1 0 1 0 0 1]\n",
      " [1 0 1 1 1 1 1 1 1 0]]\n",
      "[[1 0 1 1 1 1 1 1 1 0]\n",
      " [0 0 1 1 0 1 0 0 1 0]\n",
      " [0 1 0 0 1 0 1 1 1 1]\n",
      " [1 1 0 0 1 1 0 0 1 1]\n",
      " [1 0 1 1 0 0 0 1 1 1]\n",
      " [0 1 0 1 0 0 0 0 0 1]\n",
      " [1 0 1 0 0 0 0 1 1 1]\n",
      " [1 0 1 0 1 0 1 0 0 1]\n",
      " [0 1 1 1 1 0 1 0 0 1]\n",
      " [1 0 1 1 1 1 1 1 1 0]]\n"
     ]
    }
   ],
   "source": [
    "import random\n",
    "import numpy as np\n",
    "import matplotlib.pyplot as plt\n",
    "\n",
    "class Graph:\n",
    "    def __init__(self, num_nodes):\n",
    "        self.num_nodes = num_nodes\n",
    "        probabilities = [random.randint(1, 10000) for _ in range(num_nodes)]\n",
    "        self.probability = [i / sum(probabilities) for i in probabilities]\n",
    "        self.adj_matrix = self.generate_random_graph()\n",
    "\n",
    "    def generate_random_graph(self):\n",
    "        # Generate a random graph using the Erdos-Renyi model\n",
    "        graph = [[0] * self.num_nodes for _ in range(self.num_nodes)]\n",
    "        for i in range(self.num_nodes):\n",
    "            for j in range(i + 1, self.num_nodes):\n",
    "                if random.uniform(0, 1)**10 < (self.probability[i] * self.probability[j]):\n",
    "                    graph[i][j] = graph[j][i] = 1\n",
    "        self.graph = graph\n",
    "        return np.array(graph)\n",
    "\n",
    "    def cut_graph(self, partition):\n",
    "        set_A = {i for i in range(self.num_nodes) if partition[i] == 0}\n",
    "        set_B = {i for i in range(self.num_nodes) if partition[i] == 1}\n",
    "        cut_edges = [(i, j) for i in set_A for j in set_B if self.adj_matrix[i][j] == 1]\n",
    "        return set_A, set_B, cut_edges\n",
    "    \n",
    "    def sort_algo(self):\n",
    "        max_sum_row = 0\n",
    "        for i\n",
    "            index = sum(row)\n",
    "            if index > max_sum_row:\n",
    "                max_sum_row = index\n",
    "                first_index = self.adj_matrix[0]\n",
    "                self.adj_matrix[0] = row\n",
    "                self.adj_matrix[i] = first_index\n",
    "            if index < max_sum_row:\n",
    "                index = max_sum_row - index\n",
    "                while sum(self.adj_matrix[index]) > index:\n",
    "                    index -= 1\n",
    "                    if index <= 0:\n",
    "                        change_index = self.adj_matrix[index]\n",
    "                        self.adj_matrix[index] = row\n",
    "                        self.adj_matrix[i] = change_index\n",
    "                        break\n",
    "                change_index = self.adj_matrix[index]\n",
    "                self.adj_matrix[index] = row\n",
    "                self.adj_matrix[i] = change_index\n",
    "\n",
    "\n",
    "\n",
    "\n",
    "\n",
    "map = Graph(10)\n",
    "print(map.adj_matrix)\n",
    "map.sort_algo()\n",
    "print(map.adj_matrix)"
   ]
  },
  {
   "cell_type": "code",
   "execution_count": null,
   "metadata": {},
   "outputs": [],
   "source": []
  }
 ],
 "metadata": {
  "kernelspec": {
   "display_name": "Python 3",
   "language": "python",
   "name": "python3"
  },
  "language_info": {
   "codemirror_mode": {
    "name": "ipython",
    "version": 3
   },
   "file_extension": ".py",
   "mimetype": "text/x-python",
   "name": "python",
   "nbconvert_exporter": "python",
   "pygments_lexer": "ipython3",
   "version": "3.11.0"
  }
 },
 "nbformat": 4,
 "nbformat_minor": 2
}
