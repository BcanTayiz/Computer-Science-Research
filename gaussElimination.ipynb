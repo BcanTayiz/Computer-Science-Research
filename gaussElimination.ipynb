{
 "cells": [
  {
   "cell_type": "code",
   "execution_count": 3,
   "metadata": {},
   "outputs": [
    {
     "name": "stdout",
     "output_type": "stream",
     "text": [
      "Solving System of Linear Equations using Gauss Elimination:\n",
      "Original Matrix:\n",
      "[[0.86876224 0.38607909 0.08079158 0.07997747]\n",
      " [0.42159121 0.12219443 0.59066726 0.89322427]\n",
      " [0.27722397 0.82546682 0.91715466 0.2894593 ]]\n",
      "\n",
      "Modified Matrix:\n",
      "[[0.86876224 0.38607909 0.08079158 0.07997747]\n",
      " [0.42159121 0.12219443 0.59066726 0.89322427]\n",
      " [0.27722397 0.82546682 0.91715466 0.2894593 ]]\n",
      "\n",
      "Solution:\n",
      "[ 0.57790298 -1.38327347  1.38591357]\n"
     ]
    }
   ],
   "source": [
    "import numpy as np\n",
    "\n",
    "class GaussElimination:\n",
    "    def __init__(self, matrix):\n",
    "        \"\"\"\n",
    "        Initialize a GaussElimination object with a given matrix.\n",
    "\n",
    "        :param matrix: The coefficient matrix of the system of linear equations.\n",
    "        \"\"\"\n",
    "        self.original_matrix = np.array(matrix, dtype=float)\n",
    "        self.matrix = np.array(matrix, dtype=float)\n",
    "\n",
    "    def generate_random_matrix(self, size):\n",
    "        \"\"\"\n",
    "        Generate a random square matrix of a given size.\n",
    "\n",
    "        :param size: The size (number of rows and columns) of the square matrix.\n",
    "        \"\"\"\n",
    "        self.original_matrix = np.random.rand(size, size)\n",
    "        self.matrix = np.array(self.original_matrix, dtype=float)\n",
    "\n",
    "    def \n",
    "\n",
    "    \n",
    "# Example usage\n",
    "size = 3\n",
    "random_matrix = np.random.rand(size, size + 1)  # Augmented matrix\n",
    "gauss_solver = GaussElimination(random_matrix)\n",
    "\n",
    "print(\"Solving System of Linear Equations using Gauss Elimination:\")\n",
    "gauss_solver.display()\n",
    "solution = gauss_solver.solve()\n",
    "print(\"\\nSolution:\")\n",
    "print(solution)\n"
   ]
  },
  {
   "cell_type": "code",
   "execution_count": null,
   "metadata": {},
   "outputs": [],
   "source": []
  }
 ],
 "metadata": {
  "kernelspec": {
   "display_name": "Python 3",
   "language": "python",
   "name": "python3"
  },
  "language_info": {
   "codemirror_mode": {
    "name": "ipython",
    "version": 3
   },
   "file_extension": ".py",
   "mimetype": "text/x-python",
   "name": "python",
   "nbconvert_exporter": "python",
   "pygments_lexer": "ipython3",
   "version": "3.11.0"
  }
 },
 "nbformat": 4,
 "nbformat_minor": 2
}
