{
 "cells": [
  {
   "cell_type": "code",
   "execution_count": 79,
   "metadata": {},
   "outputs": [
    {
     "name": "stdout",
     "output_type": "stream",
     "text": [
      "Original Array: [6, 0, 1, 2, 1, 0, 4, 6, 5, 3, 6, 4, 8, 2, 0, 7, 9, 9, 8, 3, 4, 8, 8, 1, 7, 2, 2, 8, 9, 9, 0, 0, 6, 5, 3, 4, 1, 5, 2, 9, 1, 6, 0, 2, 7, 7, 3, 2, 2, 9, 7, 7, 6, 6, 4, 4, 6, 6, 2, 2, 3, 1, 2, 1, 0, 3, 6, 0, 1, 9, 5, 5, 2, 4, 1, 9, 1, 7, 5, 3, 0, 2, 2, 5, 6, 7, 5, 3, 0, 8, 3, 0, 7, 3, 0, 4, 2, 0, 4, 3]\n",
      "Longest Symmetric Subset: [6, 6, 4, 4, 6, 6]\n"
     ]
    }
   ],
   "source": [
    "import random\n",
    "\n",
    "def generate_random_array(size):\n",
    "    return [int(random.uniform(0, 10)) for _ in range(size)]\n",
    "\n",
    "def is_symmetric(array):\n",
    "    length = len(array)\n",
    "    middle = length // 2\n",
    "\n",
    "    if length % 2 == 0:\n",
    "        return array[:middle] == array[middle:][::-1]\n",
    "    else:\n",
    "        return array[:middle] == array[middle+1:][::-1]\n",
    "\n",
    "def pattern_match(array):\n",
    "    length = len(array)\n",
    "    for n in range(length, 0, -1):  # Start from the maximum length\n",
    "        for i in range(length - n + 1):\n",
    "            array_comb = array[i:(i + n)]\n",
    "            if is_symmetric(array_comb):\n",
    "                return array_comb\n",
    "\n",
    "# Example usage\n",
    "one_zero_list = generate_random_array(100)\n",
    "result = pattern_match(one_zero_list)\n",
    "print(\"Original Array:\", one_zero_list)\n",
    "print(\"Longest Symmetric Subset:\", result)\n"
   ]
  },
  {
   "cell_type": "code",
   "execution_count": null,
   "metadata": {},
   "outputs": [],
   "source": []
  }
 ],
 "metadata": {
  "kernelspec": {
   "display_name": "Python 3",
   "language": "python",
   "name": "python3"
  },
  "language_info": {
   "codemirror_mode": {
    "name": "ipython",
    "version": 3
   },
   "file_extension": ".py",
   "mimetype": "text/x-python",
   "name": "python",
   "nbconvert_exporter": "python",
   "pygments_lexer": "ipython3",
   "version": "3.11.0"
  }
 },
 "nbformat": 4,
 "nbformat_minor": 2
}
