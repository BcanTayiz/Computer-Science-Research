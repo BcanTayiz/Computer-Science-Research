{
 "cells": [
  {
   "cell_type": "code",
   "execution_count": null,
   "metadata": {},
   "outputs": [],
   "source": [
    "def is_prime(n):\n",
    "    if n <= 1:\n",
    "        return False\n",
    "    for i in range(2, int(n**0.5) + 1):\n",
    "        if n % i == 0:\n",
    "            return False\n",
    "    return True\n",
    "\n",
    "def generate_primes(n_primes):\n",
    "    primes = []\n",
    "    num = 2\n",
    "    while len(primes) < n_primes:\n",
    "        if is_prime(num):\n",
    "            primes.append(num)\n",
    "        num += 1\n",
    "    return primes\n",
    "\n",
    "def zeta_function_zero(n_zeros):\n",
    "    zeros = []\n",
    "    for i in range(1, n_zeros + 1):\n",
    "        # Calculate nontrivial zeros using a simple algorithm\n",
    "        zero = 1/2 - 1j * i\n",
    "        zeros.append(zero)\n",
    "    return zeros\n",
    "\n",
    "# Example usage: Calculate the first 5 zeros and first 10 primes\n",
    "zeros = zeta_function_zero(5)\n",
    "primes = generate_primes(10)\n",
    "\n",
    "print(\"Nontrivial Zeros of the Riemann Zeta Function:\")\n",
    "print(zeros)\n",
    "\n",
    "print(\"\\nFirst 10 Prime Numbers:\")\n",
    "print(primes)\n"
   ]
  }
 ],
 "metadata": {
  "kernelspec": {
   "display_name": "Python 3",
   "language": "python",
   "name": "python3"
  },
  "language_info": {
   "name": "python",
   "version": "3.11.0"
  }
 },
 "nbformat": 4,
 "nbformat_minor": 2
}
