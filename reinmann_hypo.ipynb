{
 "cells": [
  {
   "cell_type": "code",
   "execution_count": 2,
   "metadata": {},
   "outputs": [
    {
     "name": "stdout",
     "output_type": "stream",
     "text": [
      "Nontrivial Zeros of the Riemann Zeta Function:\n",
      "(0.5+1j)\n",
      "(0.5+2j)\n",
      "(0.5+3j)\n",
      "(0.5+4j)\n",
      "(0.5+5j)\n"
     ]
    }
   ],
   "source": [
    "import cmath\n",
    "\n",
    "def riemann_zeta_zeros(n_zeros):\n",
    "    zeros = []\n",
    "    for i in range(1, n_zeros + 1):\n",
    "        # Calculate nontrivial zeros using a simple algorithm\n",
    "        zero = 0.5 + 1j * i\n",
    "        zeros.append(zero)\n",
    "    return zeros\n",
    "\n",
    "# Example usage: Calculate the first 5 nontrivial zeros\n",
    "n_zeros = 5\n",
    "zeros = riemann_zeta_zeros(n_zeros)\n",
    "\n",
    "print(\"Nontrivial Zeros of the Riemann Zeta Function:\")\n",
    "for zero in zeros:\n",
    "    print(zero)\n"
   ]
  },
  {
   "cell_type": "code",
   "execution_count": null,
   "metadata": {},
   "outputs": [],
   "source": []
  }
 ],
 "metadata": {
  "kernelspec": {
   "display_name": "Python 3",
   "language": "python",
   "name": "python3"
  },
  "language_info": {
   "codemirror_mode": {
    "name": "ipython",
    "version": 3
   },
   "file_extension": ".py",
   "mimetype": "text/x-python",
   "name": "python",
   "nbconvert_exporter": "python",
   "pygments_lexer": "ipython3",
   "version": "3.11.0"
  }
 },
 "nbformat": 4,
 "nbformat_minor": 2
}
