{
 "cells": [
  {
   "cell_type": "markdown",
   "metadata": {},
   "source": [
    "# Problem 862\n",
    "\n",
    "Link => https://projecteuler.net/problem=862"
   ]
  },
  {
   "cell_type": "markdown",
   "metadata": {},
   "source": []
  },
  {
   "cell_type": "code",
   "execution_count": 4,
   "metadata": {},
   "outputs": [
    {
     "ename": "TypeError",
     "evalue": "comb expected 2 arguments, got 1",
     "output_type": "error",
     "traceback": [
      "\u001b[1;31m---------------------------------------------------------------------------\u001b[0m",
      "\u001b[1;31mTypeError\u001b[0m                                 Traceback (most recent call last)",
      "Cell \u001b[1;32mIn[4], line 28\u001b[0m\n\u001b[0;32m     24\u001b[0m         total_Sum \u001b[38;5;241m+\u001b[39m\u001b[38;5;241m=\u001b[39m combinations(i)\n\u001b[0;32m     26\u001b[0m     \u001b[38;5;28;01mreturn\u001b[39;00m total_Sum\n\u001b[1;32m---> 28\u001b[0m \u001b[43mtotalSum\u001b[49m\u001b[43m(\u001b[49m\u001b[38;5;241;43m3\u001b[39;49m\u001b[43m)\u001b[49m\n",
      "Cell \u001b[1;32mIn[4], line 24\u001b[0m, in \u001b[0;36mtotalSum\u001b[1;34m(k)\u001b[0m\n\u001b[0;32m     22\u001b[0m total_Sum \u001b[38;5;241m=\u001b[39m \u001b[38;5;241m0\u001b[39m\n\u001b[0;32m     23\u001b[0m \u001b[38;5;28;01mfor\u001b[39;00m i \u001b[38;5;129;01min\u001b[39;00m \u001b[38;5;28mrange\u001b[39m(\u001b[38;5;241m10\u001b[39m\u001b[38;5;241m*\u001b[39m\u001b[38;5;241m*\u001b[39m(k),\u001b[38;5;241m10\u001b[39m\u001b[38;5;241m*\u001b[39m\u001b[38;5;241m*\u001b[39m(k\u001b[38;5;241m+\u001b[39m\u001b[38;5;241m1\u001b[39m)):\n\u001b[1;32m---> 24\u001b[0m     total_Sum \u001b[38;5;241m+\u001b[39m\u001b[38;5;241m=\u001b[39m \u001b[43mcombinations\u001b[49m\u001b[43m(\u001b[49m\u001b[43mi\u001b[49m\u001b[43m)\u001b[49m\n\u001b[0;32m     26\u001b[0m \u001b[38;5;28;01mreturn\u001b[39;00m total_Sum\n",
      "Cell \u001b[1;32mIn[4], line 11\u001b[0m, in \u001b[0;36mcombinations\u001b[1;34m(number)\u001b[0m\n\u001b[0;32m      9\u001b[0m sortedList \u001b[38;5;241m=\u001b[39m \u001b[38;5;28msorted\u001b[39m(num_list,reverse\u001b[38;5;241m=\u001b[39m\u001b[38;5;28;01mTrue\u001b[39;00m)[\u001b[38;5;241m0\u001b[39m:lenNum\u001b[38;5;241m-\u001b[39m\u001b[38;5;241m1\u001b[39m]\n\u001b[0;32m     10\u001b[0m val \u001b[38;5;241m=\u001b[39m \u001b[38;5;241m0\u001b[39m\n\u001b[1;32m---> 11\u001b[0m possibleVals \u001b[38;5;241m=\u001b[39m \u001b[43mmath\u001b[49m\u001b[38;5;241;43m.\u001b[39;49m\u001b[43mcomb\u001b[49m\u001b[43m(\u001b[49m\u001b[43munique_numbers\u001b[49m\u001b[43m)\u001b[49m \u001b[38;5;241m-\u001b[39m countZero\n\u001b[0;32m     12\u001b[0m \u001b[38;5;28;01mif\u001b[39;00m sortedList \u001b[38;5;241m==\u001b[39m num_list:\n\u001b[0;32m     13\u001b[0m     \u001b[38;5;28;01mreturn\u001b[39;00m \u001b[38;5;241m0\u001b[39m\n",
      "\u001b[1;31mTypeError\u001b[0m: comb expected 2 arguments, got 1"
     ]
    }
   ],
   "source": [
    "import numpy as np\n",
    "import math\n",
    "\n",
    "def combinations(number):\n",
    "    num_list = [int(i) for i in str(number)]\n",
    "    unique_numbers = np.unique(num_list)\n",
    "    lenNum = len(num_list)\n",
    "    countZero = list(unique_numbers).count(0)\n",
    "    sortedList = sorted(num_list,reverse=True)[0:lenNum-1]\n",
    "    val = 0\n",
    "    possibleVals = math.comb(unique_numbers) - countZero\n",
    "    if sortedList == num_list:\n",
    "        return 0\n",
    "    print(sortedList,num_list)\n",
    "    for i in range(lenNum-1):\n",
    "        val += sortedList.index(sortedList[i]) - num_list.index(num_list[i+1])\n",
    "    print(possibleVals, val)\n",
    "    return possibleVals+val\n",
    "\n",
    "\n",
    "def totalSum(k):\n",
    "    total_Sum = 0\n",
    "    for i in range(10**(k),10**(k+1)):\n",
    "        total_Sum += combinations(i)\n",
    "\n",
    "    return total_Sum\n",
    "\n",
    "totalSum(3)"
   ]
  },
  {
   "cell_type": "code",
   "execution_count": null,
   "metadata": {},
   "outputs": [],
   "source": []
  }
 ],
 "metadata": {
  "kernelspec": {
   "display_name": "Python 3",
   "language": "python",
   "name": "python3"
  },
  "language_info": {
   "codemirror_mode": {
    "name": "ipython",
    "version": 3
   },
   "file_extension": ".py",
   "mimetype": "text/x-python",
   "name": "python",
   "nbconvert_exporter": "python",
   "pygments_lexer": "ipython3",
   "version": "3.11.0"
  }
 },
 "nbformat": 4,
 "nbformat_minor": 2
}
