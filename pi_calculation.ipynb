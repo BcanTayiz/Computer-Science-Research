{
 "cells": [
  {
   "cell_type": "code",
   "execution_count": 2,
   "metadata": {},
   "outputs": [],
   "source": [
    "import random\n",
    "import math\n",
    "def calculate_pi(num):\n",
    "    pi = 0\n",
    "    for i in range(1,num):\n",
    "        for j in range(1,30):\n",
    "            pi += 1/i**(j)\n",
    "    return pi\n",
    "\n",
    "\n",
    "counts = []\n",
    "for i in range(1,1000):\n",
    "    x = calculate_pi(i)\n",
    "    counts.append(int(x))\n",
    "\n",
    "counts_total = []\n",
    "for i in range(min(counts),max(counts)):\n",
    "    if i in counts:\n",
    "        counts_total.append(counts.count(i))\n",
    "\n",
    "print(counts_total)"
   ]
  },
  {
   "cell_type": "code",
   "execution_count": 69,
   "metadata": {},
   "outputs": [
    {
     "name": "stdout",
     "output_type": "stream",
     "text": [
      "Approximation of π to 10 decimal places:\n",
      "3.14159265358\n"
     ]
    }
   ],
   "source": [
    "from decimal import Decimal, getcontext\n",
    "\n",
    "def calculate_pi_bbp(digits):\n",
    "    getcontext().prec = digits + 2  # Set precision to include extra digits for accuracy\n",
    "    pi = Decimal(0)\n",
    "\n",
    "    for k in range(digits):\n",
    "        pi += (Decimal(1)/(16**k)) * (\n",
    "            Decimal(4)/(8*k+1) - Decimal(2)/(8*k+4) - Decimal(1)/(8*k+5) - Decimal(1)/(8*k+6)\n",
    "        )\n",
    "\n",
    "    return pi\n",
    "\n",
    "# Example usage\n",
    "decimal_places = 10\n",
    "pi_approximation = calculate_pi_bbp(decimal_places)\n",
    "\n",
    "print(f\"Approximation of π to {decimal_places} decimal places:\\n{pi_approximation}\")\n"
   ]
  },
  {
   "cell_type": "code",
   "execution_count": null,
   "metadata": {},
   "outputs": [],
   "source": []
  }
 ],
 "metadata": {
  "kernelspec": {
   "display_name": "Python 3",
   "language": "python",
   "name": "python3"
  },
  "language_info": {
   "codemirror_mode": {
    "name": "ipython",
    "version": 3
   },
   "file_extension": ".py",
   "mimetype": "text/x-python",
   "name": "python",
   "nbconvert_exporter": "python",
   "pygments_lexer": "ipython3",
   "version": "3.11.0"
  }
 },
 "nbformat": 4,
 "nbformat_minor": 2
}
