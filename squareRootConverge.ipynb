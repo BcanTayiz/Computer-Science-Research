{
 "cells": [
  {
   "cell_type": "code",
   "execution_count": 31,
   "metadata": {},
   "outputs": [],
   "source": [
    "def squareRootApproximate(n):\n",
    "    x = n/2\n",
    "    a = n/2\n",
    "    iter = 0\n",
    "    while True:\n",
    "        if a*a > n:\n",
    "            a -= x/a\n",
    "            x = x/a\n",
    "        if a*a < n:\n",
    "            a += x/a\n",
    "            x = x/a\n",
    "\n",
    "        iter += 1\n",
    "        \n",
    "        if abs(a*a - n) < 1/10**5:\n",
    "            print(iter)\n",
    "            return a\n",
    "\n",
    "\n",
    "squareRootApproximate(10)        \n"
   ]
  },
  {
   "cell_type": "code",
   "execution_count": null,
   "metadata": {},
   "outputs": [],
   "source": []
  }
 ],
 "metadata": {
  "kernelspec": {
   "display_name": "Python 3",
   "language": "python",
   "name": "python3"
  },
  "language_info": {
   "codemirror_mode": {
    "name": "ipython",
    "version": 3
   },
   "file_extension": ".py",
   "mimetype": "text/x-python",
   "name": "python",
   "nbconvert_exporter": "python",
   "pygments_lexer": "ipython3",
   "version": "3.11.0"
  }
 },
 "nbformat": 4,
 "nbformat_minor": 2
}
