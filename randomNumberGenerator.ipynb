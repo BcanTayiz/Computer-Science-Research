{
 "cells": [
  {
   "cell_type": "code",
   "execution_count": 20,
   "metadata": {},
   "outputs": [
    {
     "ename": "KeyboardInterrupt",
     "evalue": "",
     "output_type": "error",
     "traceback": [
      "\u001b[1;31m---------------------------------------------------------------------------\u001b[0m",
      "\u001b[1;31mKeyboardInterrupt\u001b[0m                         Traceback (most recent call last)",
      "Cell \u001b[1;32mIn[20], line 32\u001b[0m\n\u001b[0;32m     29\u001b[0m probabilities \u001b[38;5;241m=\u001b[39m [i \u001b[38;5;241m/\u001b[39m \u001b[38;5;28msum\u001b[39m(probabilities) \u001b[38;5;28;01mfor\u001b[39;00m i \u001b[38;5;129;01min\u001b[39;00m probabilities]\n\u001b[0;32m     30\u001b[0m k_value \u001b[38;5;241m=\u001b[39m \u001b[38;5;241m2\u001b[39m\n\u001b[1;32m---> 32\u001b[0m result, indexes \u001b[38;5;241m=\u001b[39m \u001b[43mbernoulli_binary_choice_k_variation\u001b[49m\u001b[43m(\u001b[49m\u001b[43mprobabilities\u001b[49m\u001b[43m,\u001b[49m\u001b[43m \u001b[49m\u001b[43mk_value\u001b[49m\u001b[43m)\u001b[49m\n\u001b[0;32m     33\u001b[0m \u001b[38;5;28mprint\u001b[39m(\u001b[38;5;124m\"\u001b[39m\u001b[38;5;124mBernoulli Binary Choices:\u001b[39m\u001b[38;5;124m\"\u001b[39m, result)\n\u001b[0;32m     34\u001b[0m \u001b[38;5;28mprint\u001b[39m(\u001b[38;5;124m\"\u001b[39m\u001b[38;5;124mBernoulli Binary Choice Indexes:\u001b[39m\u001b[38;5;124m\"\u001b[39m, indexes)\n",
      "Cell \u001b[1;32mIn[20], line 11\u001b[0m, in \u001b[0;36mbernoulli_binary_choice_k_variation\u001b[1;34m(probabilities, k, indexes)\u001b[0m\n\u001b[0;32m      9\u001b[0m val \u001b[38;5;241m=\u001b[39m k\n\u001b[0;32m     10\u001b[0m selected_indices \u001b[38;5;241m=\u001b[39m []\n\u001b[1;32m---> 11\u001b[0m \u001b[38;5;28;01mwhile\u001b[39;00m \u001b[38;5;28;43mlen\u001b[39;49m\u001b[43m(\u001b[49m\u001b[43mselected_indices\u001b[49m\u001b[43m)\u001b[49m \u001b[38;5;241m<\u001b[39m k:\n\u001b[0;32m     12\u001b[0m     prob_sum \u001b[38;5;241m=\u001b[39m \u001b[38;5;28msum\u001b[39m(sorted_probs[\u001b[38;5;241m0\u001b[39m:val])\n\u001b[0;32m     13\u001b[0m     total \u001b[38;5;241m=\u001b[39m \u001b[38;5;28msum\u001b[39m([random\u001b[38;5;241m.\u001b[39muniform(\u001b[38;5;241m0\u001b[39m, \u001b[38;5;241m1\u001b[39m) \u001b[38;5;28;01mfor\u001b[39;00m i \u001b[38;5;129;01min\u001b[39;00m \u001b[38;5;28mrange\u001b[39m(k \u001b[38;5;241m-\u001b[39m \u001b[38;5;241m1\u001b[39m)]) \u001b[38;5;241m/\u001b[39m (k \u001b[38;5;241m-\u001b[39m \u001b[38;5;241m1\u001b[39m)\n",
      "\u001b[1;31mKeyboardInterrupt\u001b[0m: "
     ]
    }
   ],
   "source": [
    "import random\n",
    "\n",
    "def bernoulli_binary_choice_k_variation(probabilities, k=1, indexes=(0, 0)):\n",
    "    sorted_probs = sorted(probabilities, reverse=True)\n",
    "\n",
    "    if len(sorted_probs) <= k:\n",
    "        return sorted_probs, indexes\n",
    "\n",
    "    val = k\n",
    "    selected_indices = []\n",
    "    while len(selected_indices) < k:\n",
    "        prob_sum = sum(sorted_probs[0:val])\n",
    "        total = sum([random.uniform(0, 1) for i in range(k - 1)]) / (k - 1)\n",
    "        total = (sum(probabilities[0:len(probabilities) // 2]) + total * (k - 1)) / k\n",
    "\n",
    "        if prob_sum > total:\n",
    "            selected_indices.extend(range(val))\n",
    "            sorted_probs = sorted_probs[0:val]\n",
    "        else:\n",
    "            sorted_probs = sorted_probs[val::]\n",
    "\n",
    "    if len(selected_indices) > k:\n",
    "        selected_indices = selected_indices[:k]\n",
    "\n",
    "    return sorted_probs, tuple(selected_indices)\n",
    "\n",
    "# Example usage:\n",
    "probabilities = [1 for i in range(10000)]\n",
    "probabilities = [i / sum(probabilities) for i in probabilities]\n",
    "k_value = 2\n",
    "\n",
    "result, indexes = bernoulli_binary_choice_k_variation(probabilities, k_value)\n",
    "print(\"Bernoulli Binary Choices:\", result)\n",
    "print(\"Bernoulli Binary Choice Indexes:\", indexes)\n"
   ]
  },
  {
   "cell_type": "code",
   "execution_count": 26,
   "metadata": {},
   "outputs": [
    {
     "ename": "IndexError",
     "evalue": "list index out of range",
     "output_type": "error",
     "traceback": [
      "\u001b[1;31m---------------------------------------------------------------------------\u001b[0m",
      "\u001b[1;31mIndexError\u001b[0m                                Traceback (most recent call last)",
      "Cell \u001b[1;32mIn[26], line 33\u001b[0m\n\u001b[0;32m     30\u001b[0m probabilities \u001b[38;5;241m=\u001b[39m [i \u001b[38;5;241m/\u001b[39m \u001b[38;5;28msum\u001b[39m(probabilities) \u001b[38;5;28;01mfor\u001b[39;00m i \u001b[38;5;129;01min\u001b[39;00m probabilities]\n\u001b[0;32m     31\u001b[0m k_value \u001b[38;5;241m=\u001b[39m \u001b[38;5;241m30\u001b[39m\n\u001b[1;32m---> 33\u001b[0m result_probs, result_indices \u001b[38;5;241m=\u001b[39m \u001b[43mbernoulli_binary_choice_k_variation_with_indices\u001b[49m\u001b[43m(\u001b[49m\u001b[43mprobabilities\u001b[49m\u001b[43m,\u001b[49m\u001b[43m \u001b[49m\u001b[43mk_value\u001b[49m\u001b[43m)\u001b[49m\n\u001b[0;32m     34\u001b[0m \u001b[38;5;28mprint\u001b[39m(\u001b[38;5;124m\"\u001b[39m\u001b[38;5;124mBernoulli Binary Choices:\u001b[39m\u001b[38;5;124m\"\u001b[39m, result_probs)\n\u001b[0;32m     35\u001b[0m \u001b[38;5;28mprint\u001b[39m(\u001b[38;5;124m\"\u001b[39m\u001b[38;5;124mBernoulli Binary Choice Indices:\u001b[39m\u001b[38;5;124m\"\u001b[39m, result_indices)\n",
      "Cell \u001b[1;32mIn[26], line 13\u001b[0m, in \u001b[0;36mbernoulli_binary_choice_k_variation_with_indices\u001b[1;34m(probabilities, k)\u001b[0m\n\u001b[0;32m     11\u001b[0m selected_indices \u001b[38;5;241m=\u001b[39m []\n\u001b[0;32m     12\u001b[0m \u001b[38;5;28;01mwhile\u001b[39;00m \u001b[38;5;28mlen\u001b[39m(selected_indices) \u001b[38;5;241m<\u001b[39m k:\n\u001b[1;32m---> 13\u001b[0m     prob_sum \u001b[38;5;241m=\u001b[39m \u001b[38;5;28;43msum\u001b[39;49m\u001b[43m(\u001b[49m\u001b[43msorted_probs\u001b[49m\u001b[43m[\u001b[49m\u001b[43mi\u001b[49m\u001b[43m]\u001b[49m\u001b[43m[\u001b[49m\u001b[38;5;241;43m1\u001b[39;49m\u001b[43m]\u001b[49m\u001b[43m \u001b[49m\u001b[38;5;28;43;01mfor\u001b[39;49;00m\u001b[43m \u001b[49m\u001b[43mi\u001b[49m\u001b[43m \u001b[49m\u001b[38;5;129;43;01min\u001b[39;49;00m\u001b[43m \u001b[49m\u001b[38;5;28;43mrange\u001b[39;49m\u001b[43m(\u001b[49m\u001b[43mval\u001b[49m\u001b[43m)\u001b[49m\u001b[43m)\u001b[49m\n\u001b[0;32m     14\u001b[0m     total \u001b[38;5;241m=\u001b[39m \u001b[38;5;28msum\u001b[39m(random\u001b[38;5;241m.\u001b[39muniform(\u001b[38;5;241m0\u001b[39m, \u001b[38;5;241m1\u001b[39m) \u001b[38;5;28;01mfor\u001b[39;00m i \u001b[38;5;129;01min\u001b[39;00m \u001b[38;5;28mrange\u001b[39m(k \u001b[38;5;241m-\u001b[39m \u001b[38;5;241m1\u001b[39m)) \u001b[38;5;241m/\u001b[39m (k \u001b[38;5;241m-\u001b[39m \u001b[38;5;241m1\u001b[39m)\n\u001b[0;32m     15\u001b[0m     total \u001b[38;5;241m=\u001b[39m (\u001b[38;5;28msum\u001b[39m(probabilities[\u001b[38;5;241m0\u001b[39m:\u001b[38;5;28mlen\u001b[39m(probabilities) \u001b[38;5;241m/\u001b[39m\u001b[38;5;241m/\u001b[39m \u001b[38;5;241m2\u001b[39m]) \u001b[38;5;241m+\u001b[39m total \u001b[38;5;241m*\u001b[39m (k \u001b[38;5;241m-\u001b[39m \u001b[38;5;241m1\u001b[39m)) \u001b[38;5;241m/\u001b[39m k\n",
      "Cell \u001b[1;32mIn[26], line 13\u001b[0m, in \u001b[0;36m<genexpr>\u001b[1;34m(.0)\u001b[0m\n\u001b[0;32m     11\u001b[0m selected_indices \u001b[38;5;241m=\u001b[39m []\n\u001b[0;32m     12\u001b[0m \u001b[38;5;28;01mwhile\u001b[39;00m \u001b[38;5;28mlen\u001b[39m(selected_indices) \u001b[38;5;241m<\u001b[39m k:\n\u001b[1;32m---> 13\u001b[0m     prob_sum \u001b[38;5;241m=\u001b[39m \u001b[38;5;28msum\u001b[39m(\u001b[43msorted_probs\u001b[49m\u001b[43m[\u001b[49m\u001b[43mi\u001b[49m\u001b[43m]\u001b[49m[\u001b[38;5;241m1\u001b[39m] \u001b[38;5;28;01mfor\u001b[39;00m i \u001b[38;5;129;01min\u001b[39;00m \u001b[38;5;28mrange\u001b[39m(val))\n\u001b[0;32m     14\u001b[0m     total \u001b[38;5;241m=\u001b[39m \u001b[38;5;28msum\u001b[39m(random\u001b[38;5;241m.\u001b[39muniform(\u001b[38;5;241m0\u001b[39m, \u001b[38;5;241m1\u001b[39m) \u001b[38;5;28;01mfor\u001b[39;00m i \u001b[38;5;129;01min\u001b[39;00m \u001b[38;5;28mrange\u001b[39m(k \u001b[38;5;241m-\u001b[39m \u001b[38;5;241m1\u001b[39m)) \u001b[38;5;241m/\u001b[39m (k \u001b[38;5;241m-\u001b[39m \u001b[38;5;241m1\u001b[39m)\n\u001b[0;32m     15\u001b[0m     total \u001b[38;5;241m=\u001b[39m (\u001b[38;5;28msum\u001b[39m(probabilities[\u001b[38;5;241m0\u001b[39m:\u001b[38;5;28mlen\u001b[39m(probabilities) \u001b[38;5;241m/\u001b[39m\u001b[38;5;241m/\u001b[39m \u001b[38;5;241m2\u001b[39m]) \u001b[38;5;241m+\u001b[39m total \u001b[38;5;241m*\u001b[39m (k \u001b[38;5;241m-\u001b[39m \u001b[38;5;241m1\u001b[39m)) \u001b[38;5;241m/\u001b[39m k\n",
      "\u001b[1;31mIndexError\u001b[0m: list index out of range"
     ]
    }
   ],
   "source": [
    "import random\n",
    "\n",
    "def bernoulli_binary_choice_k_variation_with_indices(probabilities, k=1):\n",
    "    prob_index_pairs = list(enumerate(probabilities))\n",
    "    sorted_probs = sorted(prob_index_pairs, key=lambda x: x[1], reverse=True)\n",
    "\n",
    "    if len(sorted_probs) <= k:\n",
    "        return [index for index, _ in sorted_probs]\n",
    "\n",
    "    val = k\n",
    "    selected_indices = []\n",
    "    while len(selected_indices) < k:\n",
    "        prob_sum = sum(sorted_probs[i][1] for i in range(val))\n",
    "        total = sum(random.uniform(0, 1) for i in range(k - 1)) / (k - 1)\n",
    "        total = (sum(probabilities[0:len(probabilities) // 2]) + total * (k - 1)) / k\n",
    "\n",
    "        if prob_sum > total:\n",
    "            selected_indices.extend(index for index, _ in sorted_probs[0:val])\n",
    "            sorted_probs = sorted_probs[0:val]\n",
    "        else:\n",
    "            sorted_probs = sorted_probs[val::]\n",
    "\n",
    "    if len(selected_indices) > k:\n",
    "        selected_indices = selected_indices[:k]\n",
    "\n",
    "    return sorted_probs, selected_indices\n",
    "\n",
    "# Example usage:\n",
    "probabilities = [random.randint(1, 10000) for i in range(100)]\n",
    "probabilities = [i / sum(probabilities) for i in probabilities]\n",
    "k_value = 30\n",
    "\n",
    "result_probs, result_indices = bernoulli_binary_choice_k_variation_with_indices(probabilities, k_value)\n",
    "print(\"Bernoulli Binary Choices:\", result_probs)\n",
    "print(\"Bernoulli Binary Choice Indices:\", result_indices)\n"
   ]
  },
  {
   "cell_type": "code",
   "execution_count": 37,
   "metadata": {},
   "outputs": [
    {
     "ename": "KeyboardInterrupt",
     "evalue": "",
     "output_type": "error",
     "traceback": [
      "\u001b[1;31m---------------------------------------------------------------------------\u001b[0m",
      "\u001b[1;31mKeyboardInterrupt\u001b[0m                         Traceback (most recent call last)",
      "Cell \u001b[1;32mIn[37], line 33\u001b[0m\n\u001b[0;32m     30\u001b[0m probabilities \u001b[38;5;241m=\u001b[39m [i \u001b[38;5;241m/\u001b[39m \u001b[38;5;28msum\u001b[39m(probabilities) \u001b[38;5;28;01mfor\u001b[39;00m i \u001b[38;5;129;01min\u001b[39;00m probabilities]\n\u001b[0;32m     31\u001b[0m k_value \u001b[38;5;241m=\u001b[39m \u001b[38;5;241m30\u001b[39m\n\u001b[1;32m---> 33\u001b[0m result_probs, result_indices \u001b[38;5;241m=\u001b[39m \u001b[43mbernoulli_binary_choice_k_variation_with_indices\u001b[49m\u001b[43m(\u001b[49m\u001b[43mprobabilities\u001b[49m\u001b[43m,\u001b[49m\u001b[43m \u001b[49m\u001b[43mk_value\u001b[49m\u001b[43m)\u001b[49m\n\u001b[0;32m     34\u001b[0m \u001b[38;5;28mprint\u001b[39m(\u001b[38;5;124m\"\u001b[39m\u001b[38;5;124mBernoulli Binary Choices:\u001b[39m\u001b[38;5;124m\"\u001b[39m, result_probs)\n\u001b[0;32m     35\u001b[0m \u001b[38;5;28mprint\u001b[39m(\u001b[38;5;124m\"\u001b[39m\u001b[38;5;124mBernoulli Binary Choice Indices:\u001b[39m\u001b[38;5;124m\"\u001b[39m, result_indices)\n",
      "Cell \u001b[1;32mIn[37], line 14\u001b[0m, in \u001b[0;36mbernoulli_binary_choice_k_variation_with_indices\u001b[1;34m(probabilities, k)\u001b[0m\n\u001b[0;32m     12\u001b[0m \u001b[38;5;28;01mwhile\u001b[39;00m \u001b[38;5;28mlen\u001b[39m(selected_indices) \u001b[38;5;241m<\u001b[39m\u001b[38;5;241m=\u001b[39m k:\n\u001b[0;32m     13\u001b[0m     prob_sum \u001b[38;5;241m=\u001b[39m \u001b[38;5;28msum\u001b[39m(prob \u001b[38;5;28;01mfor\u001b[39;00m _, prob \u001b[38;5;129;01min\u001b[39;00m sorted_probs[:val])\n\u001b[1;32m---> 14\u001b[0m     total \u001b[38;5;241m=\u001b[39m \u001b[38;5;28;43msum\u001b[39;49m\u001b[43m(\u001b[49m\u001b[43mrandom\u001b[49m\u001b[38;5;241;43m.\u001b[39;49m\u001b[43muniform\u001b[49m\u001b[43m(\u001b[49m\u001b[38;5;241;43m0\u001b[39;49m\u001b[43m,\u001b[49m\u001b[43m \u001b[49m\u001b[38;5;241;43m1\u001b[39;49m\u001b[43m)\u001b[49m\u001b[43m \u001b[49m\u001b[38;5;28;43;01mfor\u001b[39;49;00m\u001b[43m \u001b[49m\u001b[43mi\u001b[49m\u001b[43m \u001b[49m\u001b[38;5;129;43;01min\u001b[39;49;00m\u001b[43m \u001b[49m\u001b[38;5;28;43mrange\u001b[39;49m\u001b[43m(\u001b[49m\u001b[43mk\u001b[49m\u001b[43m \u001b[49m\u001b[38;5;241;43m-\u001b[39;49m\u001b[43m \u001b[49m\u001b[38;5;241;43m1\u001b[39;49m\u001b[43m)\u001b[49m\u001b[43m)\u001b[49m \u001b[38;5;241m/\u001b[39m (k \u001b[38;5;241m-\u001b[39m \u001b[38;5;241m1\u001b[39m)\n\u001b[0;32m     15\u001b[0m     total \u001b[38;5;241m=\u001b[39m (\u001b[38;5;28msum\u001b[39m(probabilities[\u001b[38;5;241m0\u001b[39m:\u001b[38;5;28mlen\u001b[39m(probabilities) \u001b[38;5;241m/\u001b[39m\u001b[38;5;241m/\u001b[39m \u001b[38;5;241m2\u001b[39m]) \u001b[38;5;241m+\u001b[39m total \u001b[38;5;241m*\u001b[39m (k \u001b[38;5;241m-\u001b[39m \u001b[38;5;241m1\u001b[39m)) \u001b[38;5;241m/\u001b[39m k\n\u001b[0;32m     17\u001b[0m     \u001b[38;5;28;01mif\u001b[39;00m prob_sum \u001b[38;5;241m>\u001b[39m\u001b[38;5;241m=\u001b[39m total:\n",
      "Cell \u001b[1;32mIn[37], line 14\u001b[0m, in \u001b[0;36m<genexpr>\u001b[1;34m(.0)\u001b[0m\n\u001b[0;32m     12\u001b[0m \u001b[38;5;28;01mwhile\u001b[39;00m \u001b[38;5;28mlen\u001b[39m(selected_indices) \u001b[38;5;241m<\u001b[39m\u001b[38;5;241m=\u001b[39m k:\n\u001b[0;32m     13\u001b[0m     prob_sum \u001b[38;5;241m=\u001b[39m \u001b[38;5;28msum\u001b[39m(prob \u001b[38;5;28;01mfor\u001b[39;00m _, prob \u001b[38;5;129;01min\u001b[39;00m sorted_probs[:val])\n\u001b[1;32m---> 14\u001b[0m     total \u001b[38;5;241m=\u001b[39m \u001b[38;5;28msum\u001b[39m(random\u001b[38;5;241m.\u001b[39muniform(\u001b[38;5;241m0\u001b[39m, \u001b[38;5;241m1\u001b[39m) \u001b[38;5;28;01mfor\u001b[39;00m i \u001b[38;5;129;01min\u001b[39;00m \u001b[38;5;28mrange\u001b[39m(k \u001b[38;5;241m-\u001b[39m \u001b[38;5;241m1\u001b[39m)) \u001b[38;5;241m/\u001b[39m (k \u001b[38;5;241m-\u001b[39m \u001b[38;5;241m1\u001b[39m)\n\u001b[0;32m     15\u001b[0m     total \u001b[38;5;241m=\u001b[39m (\u001b[38;5;28msum\u001b[39m(probabilities[\u001b[38;5;241m0\u001b[39m:\u001b[38;5;28mlen\u001b[39m(probabilities) \u001b[38;5;241m/\u001b[39m\u001b[38;5;241m/\u001b[39m \u001b[38;5;241m2\u001b[39m]) \u001b[38;5;241m+\u001b[39m total \u001b[38;5;241m*\u001b[39m (k \u001b[38;5;241m-\u001b[39m \u001b[38;5;241m1\u001b[39m)) \u001b[38;5;241m/\u001b[39m k\n\u001b[0;32m     17\u001b[0m     \u001b[38;5;28;01mif\u001b[39;00m prob_sum \u001b[38;5;241m>\u001b[39m\u001b[38;5;241m=\u001b[39m total:\n",
      "\u001b[1;31mKeyboardInterrupt\u001b[0m: "
     ]
    }
   ],
   "source": [
    "import random\n",
    "\n",
    "def bernoulli_binary_choice_k_variation_with_indices(probabilities, k=1):\n",
    "    prob_index_pairs = list(enumerate(probabilities))\n",
    "    sorted_probs = sorted(prob_index_pairs, key=lambda x: x[1], reverse=True)\n",
    "\n",
    "    if len(sorted_probs) <= k:\n",
    "        return [index for index, _ in sorted_probs]\n",
    "\n",
    "    val = k\n",
    "    selected_indices = []\n",
    "    while len(selected_indices) <= k:\n",
    "        prob_sum = sum(prob for _, prob in sorted_probs[:val])\n",
    "        total = sum(random.uniform(0, 1) for i in range(k - 1)) / (k - 1)\n",
    "        total = (sum(probabilities[0:len(probabilities) // 2]) + total * (k - 1)) / k\n",
    "\n",
    "        if prob_sum >= total:\n",
    "            selected_indices.extend(index for index, _ in sorted_probs[:val])\n",
    "            sorted_probs = sorted_probs[:val]\n",
    "        else:\n",
    "            sorted_probs = sorted_probs[val:]\n",
    "\n",
    "    if len(selected_indices) > k:\n",
    "        selected_indices = selected_indices[:k]\n",
    "\n",
    "    return sorted_probs, selected_indices\n",
    "\n",
    "# Example usage:\n",
    "probabilities = [random.randint(1, 10000) for i in range(100)]\n",
    "probabilities = [i / sum(probabilities) for i in probabilities]\n",
    "k_value = 30\n",
    "\n",
    "result_probs, result_indices = bernoulli_binary_choice_k_variation_with_indices(probabilities, k_value)\n",
    "print(\"Bernoulli Binary Choices:\", result_probs)\n",
    "print(\"Bernoulli Binary Choice Indices:\", result_indices)\n"
   ]
  },
  {
   "cell_type": "code",
   "execution_count": 53,
   "metadata": {},
   "outputs": [
    {
     "name": "stdout",
     "output_type": "stream",
     "text": [
      "Bernoulli Binary Choices: [(21, 0.013879109189114237), (54, 0.013790279423776478), (48, 0.013330964539590992), (60, 0.013274633468889), (65, 0.012982145217167111), (62, 0.012795819367922056), (78, 0.012793652788279672), (66, 0.012680990646875685), (76, 0.012602993779749846), (83, 0.012076514926650446), (55, 0.011493705002849052), (97, 0.011485038684279514), (71, 0.011394042339299372), (44, 0.011196883591842394), (45, 0.011151385419352323), (11, 0.010988891946173496), (34, 0.010503578106279398), (72, 0.010280420403113808), (35, 0.010126593248504519), (32, 0.009678111262530955), (56, 0.009396455909020988), (88, 0.009069302383020948), (13, 0.008956640241616961), (73, 0.00894580734340504), (16, 0.008850477839140128), (22, 0.008824478883431516), (63, 0.008235169220702969), (75, 0.008129006818226134), (2, 0.008100841282875137), (43, 0.007658859035828728), (58, 0.0075656961112062), (31, 0.007505031881219437), (51, 0.00746170028837175), (15, 0.007370703943391607), (82, 0.00710421464737833), (37, 0.007045716997033952), (96, 0.006917888798133275), (99, 0.006397909683961028), (94, 0.006272248064702735), (46, 0.006092421954384832), (20, 0.005585442318066891), (8, 0.005529111247364897), (59, 0.005496612552729132), (64, 0.005392616729894682), (18, 0.0051932914027953215), (33, 0.004866137876795282), (25, 0.004573649625073393), (40, 0.004543317510080012), (29, 0.004469653802238943), (84, 0.0043656579794044935), (10, 0.004123001059457445), (50, 0.0038261796484507873), (23, 0.003451361370318292), (9, 0.0034426950517487545), (49, 0.0033863639810467615), (3, 0.0028815509243712042), (6, 0.002589062672649315), (7, 0.002552230818728781), (38, 0.0025413979205168593), (42, 0.0023637383898413413), (69, 0.0022554094077221233), (30, 0.0021969117573777453), (26, 0.0020907493549009114), (86, 0.0017874282049671006), (12, 0.0013952772896955305), (90, 0.0012111180200928596), (28, 0.0009944600558544233), (5, 0.0005048130566755568), (89, 0.00038998433562918553), (81, 0.0003704851188477263)]\n",
      "Bernoulli Binary Choice Indices: [4, 93, 92, 39, 70, 47, 68, 24, 74, 52, 98, 36, 79, 80, 19, 57, 61, 17, 0, 91, 53, 1, 14, 67, 77, 41, 85, 87, 27, 95]\n"
     ]
    }
   ],
   "source": [
    "import random\n",
    "\n",
    "def bernoulli_binary_choice_k_variation_with_indices(probabilities, k=1):\n",
    "    prob_index_pairs = list(enumerate(probabilities))\n",
    "    sorted_probs = sorted(prob_index_pairs, key=lambda x: x[1], reverse=True)\n",
    "\n",
    "    if len(sorted_probs) <= k:\n",
    "        return [index for index, _ in sorted_probs]\n",
    "\n",
    "    val = k\n",
    "    selected_indices = []\n",
    "    while len(sorted_probs) >= val:  # Updated the condition to break the loop\n",
    "        prob_sum = sum(prob for _, prob in sorted_probs[:val])\n",
    "        total = sum(random.uniform(0, 1) for i in range(k - 1)) / (k - 1)\n",
    "        total = (sum(probabilities[0:len(probabilities) // 2]) + total * (k - 1)) / k\n",
    "\n",
    "        if prob_sum > total:\n",
    "            selected_indices.extend(index for index, _ in sorted_probs[:val])\n",
    "            sorted_probs = sorted_probs[val:]\n",
    "        else:\n",
    "            break  # Break the loop when the condition is not met\n",
    "\n",
    "    if len(selected_indices) < k:\n",
    "        selected_indices.extend(index for index, _ in sorted_probs)\n",
    "\n",
    "    return sorted_probs, selected_indices\n",
    "\n",
    "# Example usage:\n",
    "probabilities = [random.randint(1, 10000) for i in range(100)]\n",
    "probabilities = [i / sum(probabilities) for i in probabilities]\n",
    "k_value = 30\n",
    "\n",
    "result_probs, result_indices = bernoulli_binary_choice_k_variation_with_indices(probabilities, k_value)\n",
    "print(\"Bernoulli Binary Choices:\", result_probs)\n",
    "print(\"Bernoulli Binary Choice Indices:\", result_indices)\n"
   ]
  },
  {
   "cell_type": "code",
   "execution_count": null,
   "metadata": {},
   "outputs": [],
   "source": []
  }
 ],
 "metadata": {
  "kernelspec": {
   "display_name": "Python 3",
   "language": "python",
   "name": "python3"
  },
  "language_info": {
   "codemirror_mode": {
    "name": "ipython",
    "version": 3
   },
   "file_extension": ".py",
   "mimetype": "text/x-python",
   "name": "python",
   "nbconvert_exporter": "python",
   "pygments_lexer": "ipython3",
   "version": "3.11.0"
  }
 },
 "nbformat": 4,
 "nbformat_minor": 2
}
