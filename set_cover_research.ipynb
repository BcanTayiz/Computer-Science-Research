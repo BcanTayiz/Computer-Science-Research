{
  "nbformat": 4,
  "nbformat_minor": 0,
  "metadata": {
    "colab": {
      "provenance": []
    },
    "kernelspec": {
      "name": "python3",
      "display_name": "Python 3"
    },
    "language_info": {
      "name": "python"
    }
  },
  "cells": [
    {
      "cell_type": "code",
      "execution_count": 2,
      "metadata": {
        "colab": {
          "base_uri": "https://localhost:8080/"
        },
        "id": "Zm1-I3_bnDeb",
        "outputId": "50e19a0d-f35d-4393-cafe-b5e5f028712a"
      },
      "outputs": [
        {
          "output_type": "stream",
          "name": "stdout",
          "text": [
            "Generated Universe: [1, 2, 3, 4, 5, 6, 7, 8, 9, 10]\n",
            "Generated Subsets: [[1], [1], [1], [1, 1], [1, 2], [1, 3], [1, 3, 4], [1, 4, 2, 8], [1, 5, 3], [1, 7], [1, 7, 3], [1, 7, 9], [1, 8], [2], [2], [2, 5], [2, 5, 3], [2, 5, 10], [3], [3], [3, 1, 5, 7], [3, 2, 2, 2], [3, 2, 3], [3, 4], [3, 4, 9], [3, 4, 10], [3, 5], [3, 8, 10, 2], [3, 9, 8, 5], [3, 10], [4], [4], [4], [4], [4, 1, 3], [4, 3, 2], [4, 6, 2, 6], [4, 9], [4, 10], [5], [5], [5], [5, 2], [5, 5, 9, 10], [5, 6], [5, 7, 3], [6], [6], [6], [6, 1, 1, 9], [6, 2], [6, 2], [6, 4], [6, 5], [6, 5], [6, 7], [6, 7, 10], [6, 8, 7, 4], [6, 9], [6, 9, 4, 4], [6, 10, 4], [7], [7, 1], [7, 2, 8, 6], [7, 9], [7, 10, 4], [8], [8], [8], [8], [8, 1, 4], [8, 1, 5, 8], [8, 4], [8, 4, 4, 1], [8, 5, 3], [8, 8, 1, 8], [8, 8, 5], [8, 9], [9], [9], [9], [9, 2, 4], [9, 2, 6, 3], [9, 4, 8], [9, 5, 5], [9, 5, 10], [9, 6, 6, 2], [9, 7, 9, 9], [9, 9, 6], [10], [10], [10, 1, 8], [10, 3], [10, 5, 3, 2], [10, 5, 4, 2], [10, 6, 1], [10, 8, 6, 5], [10, 9], [10, 9, 2], [10, 10]]\n"
          ]
        }
      ],
      "source": [
        "import random\n",
        "import numpy as np\n",
        "\n",
        "def generate_random_set(num_elements, max_subset_size):\n",
        "    universe = list(range(1, num_elements + 1))\n",
        "    universe_real = universe\n",
        "    subsets = []\n",
        "\n",
        "    for i in range(num_elements**2):\n",
        "      subsets.append(random.choices(universe,k=int(random.uniform(1,num_elements//2))))\n",
        "\n",
        "    return universe,subsets\n",
        "\n",
        "# Example usage:\n",
        "num_elements = 10\n",
        "max_subset_size = 5\n",
        "\n",
        "universe, subsets = generate_random_set(num_elements, max_subset_size)\n",
        "\n",
        "print(\"Generated Universe:\", universe)\n",
        "print(\"Generated Subsets:\", sorted(subsets))\n"
      ]
    },
    {
      "cell_type": "code",
      "source": [
        "def findUniverseSet(universe,array):\n",
        "  org_array = array[:]\n",
        "  universe_len = len(universe)\n",
        "  universe_base = universe[:]\n",
        "  array = sorted(array)\n",
        "  set_values = []\n",
        "  values = []\n",
        "\n",
        "  iter = 0\n",
        "  max_sum = sum(universe_base) / len(universe_base)\n",
        "  rec = False\n",
        "  for _ in range(1000):\n",
        "    if _ % 100 == 0 and len(values) > 3:\n",
        "      temp_array = [el for el in universe_base if el not in values]\n",
        "      if len(temp_array) != 0:\n",
        "        max_sum = min(temp_array)\n",
        "      else:\n",
        "        return set_values\n",
        "    arr_el = [i for i in array[iter] if i not in values]\n",
        "    x = sum(arr_el)\n",
        "    if x >= max_sum:\n",
        "      max_sum = x\n",
        "      values.extend(array[iter])\n",
        "      if set(values) == universe_base:\n",
        "        return set_values\n",
        "      set_values.append(array[iter])\n",
        "      array.remove(array[iter])\n",
        "\n",
        "    iter += 1\n",
        "    iter = iter % len(array)\n",
        "    universe = [i for i in universe if i not in values]\n",
        "    if sorted(values) == sorted(universe_base):\n",
        "      print('EQUAL')\n",
        "      return set_values\n",
        "  print('ITERATION OVER')\n",
        "  return set_values\n",
        "\n",
        "\n",
        "\n",
        "\n"
      ],
      "metadata": {
        "id": "_a52Cu8pnjqO"
      },
      "execution_count": 3,
      "outputs": []
    },
    {
      "cell_type": "code",
      "source": [
        "def backtrack_set_cover(universe, subsets):\n",
        "    def backtrack(selected_subsets, remaining_elements):\n",
        "        if not remaining_elements:\n",
        "            return selected_subsets\n",
        "\n",
        "        for subset in subsets:\n",
        "          subset = set(subset)\n",
        "          if subset.intersection(remaining_elements):\n",
        "              result = backtrack(selected_subsets + [subset], remaining_elements - subset)\n",
        "              if result:\n",
        "                  return result\n",
        "\n",
        "        return None\n",
        "\n",
        "    return backtrack([], set(universe))\n",
        "\n",
        "# Example usage:\n",
        "universe = {1, 2, 3, 4, 5}\n",
        "subsets = [{1, 2}, {2, 3}, {3, 4}, {4, 5}]\n",
        "result = backtrack_set_cover(universe, subsets)\n",
        "print(result)\n"
      ],
      "metadata": {
        "colab": {
          "base_uri": "https://localhost:8080/"
        },
        "id": "elWYDfZ2A4hK",
        "outputId": "58defe03-5199-41c7-e64d-88ba12889c94"
      },
      "execution_count": 4,
      "outputs": [
        {
          "output_type": "stream",
          "name": "stdout",
          "text": [
            "[{1, 2}, {2, 3}, {3, 4}, {4, 5}]\n"
          ]
        }
      ]
    },
    {
      "cell_type": "code",
      "source": [
        "# Example usage:\n",
        "num_elements = 10\n",
        "max_subset_size = 5\n",
        "\n",
        "# Example usage:\n",
        "num_elements = 10\n",
        "max_subset_size = 5\n",
        "\n",
        "universe, subsets = generate_random_set(num_elements, max_subset_size)\n",
        "\n",
        "print(\"Generated Universe:\", universe)\n",
        "print(\"Generated Subsets:\", subsets)\n",
        "\n",
        "print(findUniverseSet(universe,subsets))\n",
        "print(backtrack_set_cover(universe,subsets))"
      ],
      "metadata": {
        "colab": {
          "base_uri": "https://localhost:8080/"
        },
        "id": "g7QknCWS4wrZ",
        "outputId": "24414716-c8ca-4f7b-f148-3d9ea22d5d81"
      },
      "execution_count": 5,
      "outputs": [
        {
          "output_type": "stream",
          "name": "stdout",
          "text": [
            "Generated Universe: [1, 2, 3, 4, 5, 6, 7, 8, 9, 10]\n",
            "Generated Subsets: [[1, 4, 6, 7], [7, 9, 10, 7], [7, 3, 6, 5], [3], [1], [4, 1], [4, 3, 5, 7], [7, 1], [4, 1, 4], [10], [4], [10, 2, 2, 10], [3, 10, 8, 7], [4, 9, 5], [9, 8, 6, 1], [6, 4, 10, 9], [5], [8, 10], [8], [6, 1, 3], [7], [5, 10, 5], [2, 7, 4], [5], [10, 7], [7], [1], [8, 9, 4, 3], [6, 8, 5], [8, 6, 2], [5, 8, 4], [3, 6], [9], [2, 10, 7], [6, 2, 4, 7], [4], [3, 4, 1, 3], [3, 7], [5, 1, 2], [9, 2, 1], [10, 1, 4, 8], [6, 6, 3, 1], [9], [10], [4], [1, 7, 3], [1], [5, 5, 10], [4, 7, 4, 2], [6, 5, 5], [4, 10, 4, 3], [6], [10, 4, 2, 4], [7, 5, 4], [9, 6, 7, 2], [8, 8], [5, 10, 3, 3], [8], [2], [7], [6], [6, 9, 9, 7], [8], [5, 10, 8, 6], [6, 9, 2], [9], [6, 4, 3], [1, 10, 6, 6], [1, 4], [3, 3], [5, 1], [7, 1, 2], [4, 1, 3], [7, 7, 3], [7], [2, 5, 4], [2], [2], [8, 8, 6, 5], [8, 5, 3, 1], [4, 8], [10], [8, 6, 4, 3], [2, 2, 5, 3], [4, 10, 3, 1], [5, 6, 7, 6], [7, 6, 5, 1], [10, 7], [7, 9, 2], [4, 2], [1, 4, 4, 9], [1, 9, 3], [1], [4, 6], [6, 8, 5, 10], [8], [6, 6, 9], [9, 9], [5, 4, 4], [8, 7]]\n",
            "[[1, 4, 4, 9], [1, 10, 6, 6], [1, 4, 6, 7], [2, 2, 5, 3], [8, 8]]\n",
            "[{1, 4, 6, 7}, {9, 10, 7}, {3, 5, 6, 7}, {10, 2}, {8, 10, 3, 7}]\n"
          ]
        }
      ]
    },
    {
      "cell_type": "code",
      "source": [
        "def set_cover_greedy(universe, subsets):\n",
        "    elements = set(universe)\n",
        "    covered_elements = set()\n",
        "    selected_subsets = []\n",
        "\n",
        "    while elements:\n",
        "        best_subset = max(subsets, key=lambda s: len(set(s) & elements))\n",
        "        selected_subsets.append(best_subset)\n",
        "        covered_elements |= set(best_subset)\n",
        "        elements -= set(best_subset)\n",
        "\n",
        "    return selected_subsets\n",
        "# Example usage:\n",
        "universe = [1, 2, 3, 4, 5, 6, 7, 8, 9, 10]\n",
        "subsets = [[1, 2, 3], [4, 5, 6], [7, 8, 9, 10]]\n",
        "\n",
        "result = set_cover_greedy(universe, subsets)\n",
        "print(\"Selected Subsets:\", result)\n"
      ],
      "metadata": {
        "colab": {
          "base_uri": "https://localhost:8080/"
        },
        "id": "HVJ44mC1pdpk",
        "outputId": "fb051af3-9dc6-480c-bc40-85c30d0a9cf1"
      },
      "execution_count": 6,
      "outputs": [
        {
          "output_type": "stream",
          "name": "stdout",
          "text": [
            "Selected Subsets: [[7, 8, 9, 10], [1, 2, 3], [4, 5, 6]]\n"
          ]
        }
      ]
    },
    {
      "cell_type": "code",
      "source": [
        "import time\n",
        "import matplotlib.pyplot as plt\n",
        "\n",
        "sizes = []\n",
        "greedy_algo_times = []\n",
        "maxVal_times = []\n",
        "backstrack_algo_times = []\n",
        "for _ in range(2,100):\n",
        "    # Example usage:\n",
        "    num_elements = _+10\n",
        "    max_subset_size = _+5\n",
        "\n",
        "    universe, subsets = generate_random_set(num_elements, max_subset_size)\n",
        "\n",
        "    start_time = time.time()\n",
        "    result1 = set_cover_greedy(universe, subsets)\n",
        "    greedy_set_time = time.time() - start_time\n",
        "\n",
        "    start_time = time.time()\n",
        "    result2 = findUniverseSet(universe, subsets)\n",
        "    maxVal_time = time.time() - start_time\n",
        "\n",
        "    start_time = time.time()\n",
        "    result3 = backtrack_set_cover(universe, subsets)\n",
        "    backstrack_algo_time = time.time() - start_time\n",
        "\n",
        "\n",
        "\n",
        "    print(len(result),len(result2),len(result3))\n",
        "\n",
        "    sizes.append(_)\n",
        "    greedy_algo_times.append(greedy_set_time)\n",
        "    maxVal_times.append(maxVal_time)\n",
        "    backstrack_algo_times.append(backstrack_algo_time)"
      ],
      "metadata": {
        "colab": {
          "base_uri": "https://localhost:8080/"
        },
        "id": "zt380PUlr5jr",
        "outputId": "6c36630e-5e5a-4cbe-f125-8682858edec9"
      },
      "execution_count": 7,
      "outputs": [
        {
          "output_type": "stream",
          "name": "stdout",
          "text": [
            "3 6 7\n",
            "3 7 7\n",
            "3 6 8\n",
            "3 6 11\n",
            "3 6 7\n",
            "3 6 6\n",
            "3 8 6\n",
            "3 6 10\n",
            "3 5 7\n",
            "3 6 10\n",
            "3 8 9\n",
            "3 6 9\n",
            "3 8 10\n",
            "3 4 8\n",
            "3 7 11\n",
            "3 7 9\n",
            "3 8 9\n",
            "3 7 8\n",
            "3 8 13\n",
            "3 7 10\n",
            "3 7 10\n",
            "3 7 8\n",
            "3 8 11\n",
            "3 9 10\n",
            "3 7 11\n",
            "3 8 12\n",
            "3 10 11\n",
            "3 10 10\n",
            "3 8 8\n",
            "3 11 12\n",
            "3 11 10\n",
            "3 9 11\n",
            "3 12 9\n",
            "3 9 12\n",
            "3 10 13\n",
            "3 8 10\n",
            "3 11 9\n",
            "3 12 12\n",
            "3 10 14\n",
            "3 11 11\n",
            "3 10 10\n",
            "3 11 12\n",
            "3 10 11\n",
            "3 11 13\n",
            "3 9 9\n",
            "3 9 12\n",
            "3 8 14\n",
            "3 8 14\n",
            "3 8 18\n",
            "3 9 10\n",
            "3 10 9\n",
            "3 9 11\n",
            "3 10 12\n",
            "3 11 14\n",
            "3 11 10\n",
            "3 9 15\n",
            "3 11 14\n",
            "3 9 15\n",
            "3 12 12\n",
            "3 10 17\n",
            "3 10 18\n",
            "3 11 13\n",
            "3 9 15\n",
            "3 11 12\n",
            "3 10 19\n",
            "3 12 12\n",
            "3 11 14\n",
            "3 11 13\n",
            "3 10 18\n",
            "3 10 15\n",
            "3 12 15\n",
            "3 11 17\n",
            "3 10 12\n",
            "3 10 13\n",
            "3 7 14\n",
            "3 9 17\n",
            "3 10 12\n",
            "3 11 12\n",
            "3 9 14\n",
            "3 10 11\n",
            "3 12 18\n",
            "3 11 14\n",
            "3 10 13\n",
            "3 11 15\n",
            "3 11 15\n",
            "3 10 14\n",
            "3 9 15\n",
            "3 12 17\n",
            "3 10 12\n",
            "3 11 15\n",
            "3 10 19\n",
            "3 11 17\n",
            "3 13 13\n",
            "3 9 14\n",
            "3 13 16\n",
            "3 9 13\n",
            "3 13 17\n",
            "3 11 15\n"
          ]
        }
      ]
    },
    {
      "cell_type": "code",
      "source": [
        "import matplotlib.pyplot as plt\n",
        "\n",
        "# Plot the results\n",
        "plt.plot(sizes, greedy_algo_times, label='Greedy Algo')\n",
        "plt.plot(sizes, maxVal_times, label='MaxVal Algo')\n",
        "plt.plot(sizes, backstrack_algo_times, label='Backstrack Algo')\n",
        "plt.xlabel('Array Size')\n",
        "plt.ylabel('Execution Time (seconds)')\n",
        "plt.legend()\n",
        "plt.title('Benchmark: First Fit vs Bin Sorted')\n",
        "plt.show()"
      ],
      "metadata": {
        "colab": {
          "base_uri": "https://localhost:8080/",
          "height": 472
        },
        "id": "TCtkG5pFs0YE",
        "outputId": "72e7103c-b244-40f4-96a7-b9a54008c070"
      },
      "execution_count": 8,
      "outputs": [
        {
          "output_type": "display_data",
          "data": {
            "text/plain": [
              "<Figure size 640x480 with 1 Axes>"
            ],
            "image/png": "[encoded data removed]"
          },
          "metadata": {}
        }
      ]
    },
    {
      "cell_type": "code",
      "source": [],
      "metadata": {
        "id": "19Rz0lKmtBrl"
      },
      "execution_count": null,
      "outputs": []
    }
  ]
}