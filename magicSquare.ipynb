{
 "cells": [
  {
   "cell_type": "code",
   "execution_count": 35,
   "metadata": {},
   "outputs": [
    {
     "ename": "IndentationError",
     "evalue": "expected an indented block after 'if' statement on line 36 (1661799673.py, line 44)",
     "output_type": "error",
     "traceback": [
      "\u001b[1;36m  Cell \u001b[1;32mIn[35], line 44\u001b[1;36m\u001b[0m\n\u001b[1;33m    if np.sum(magic_square) > val:\u001b[0m\n\u001b[1;37m    ^\u001b[0m\n\u001b[1;31mIndentationError\u001b[0m\u001b[1;31m:\u001b[0m expected an indented block after 'if' statement on line 36\n"
     ]
    }
   ],
   "source": [
    "import numpy as np\n",
    "import random\n",
    "\n",
    "class MagicSquare:\n",
    "    def __init__(self, order):\n",
    "        \"\"\"\n",
    "        Initialize a MagicSquare object of a given order.\n",
    "\n",
    "        :param order: The order of the magic square (an odd integer).\n",
    "        \"\"\"\n",
    "        if order % 2 == 0:\n",
    "            raise ValueError(\"Order of the magic square must be an odd integer.\")\n",
    "        self.order = order\n",
    "        self.square = self.generate_magic_square()\n",
    "\n",
    "    def generate_magic_square(self):\n",
    "        \"\"\"\n",
    "        Generate a magic square using the Siamese method.\n",
    "\n",
    "        :return: The generated magic square as a NumPy array.\n",
    "        \"\"\"\n",
    "        magic_square = np.zeros((self.order, self.order), dtype=int)\n",
    "        a = 100\n",
    "        x = a / 2\n",
    "        b = a / 3\n",
    "        y = b / 2\n",
    "        for iter in range(10000):\n",
    "            rand = int(random.uniform(1,self.order**2))\n",
    "            row = rand // self.order \n",
    "            column = rand % self.order\n",
    "            magic_square[row][column] = random.randint(1,int(a+10))\n",
    "            print(x) \n",
    "\n",
    "            val = np.sum(magic_square)/self.order**9\n",
    "            for i in range(self.order):\n",
    "                    if np.sum(magic_square[:,i]) > val:\n",
    "                        b =\n",
    "\n",
    "\n",
    "\n",
    "\n",
    "\n",
    "\n",
    "\n",
    "            if np.sum(magic_square) > val:\n",
    "                a += x/2\n",
    "                x = x/2\n",
    "            elif np.sum(magic_square) < val:\n",
    "                a = x * 2\n",
    "                x = x * 2\n",
    "\n",
    "            else:\n",
    "\n",
    "                if sum([el != 0 for el in magic_square.flatten() if el != 0]) == 9:\n",
    "                    break\n",
    "        print(magic_square)\n",
    "        return magic_square\n",
    "\n",
    "            \n",
    "\n",
    "\n",
    "\n",
    "\n",
    "\n",
    "\n",
    "\n",
    "        return magic_square\n",
    "\n",
    "    def display(self):\n",
    "        \"\"\"\n",
    "        Display the magic square.\n",
    "        \"\"\"\n",
    "        print(\"Magic Square of Order\", self.order)\n",
    "        print(self.square)\n",
    "\n",
    "# Example usage\n",
    "order = 3\n",
    "magic_square = MagicSquare(order)\n",
    "magic_square.display()\n"
   ]
  },
  {
   "cell_type": "code",
   "execution_count": null,
   "metadata": {},
   "outputs": [],
   "source": []
  }
 ],
 "metadata": {
  "kernelspec": {
   "display_name": "Python 3",
   "language": "python",
   "name": "python3"
  },
  "language_info": {
   "codemirror_mode": {
    "name": "ipython",
    "version": 3
   },
   "file_extension": ".py",
   "mimetype": "text/x-python",
   "name": "python",
   "nbconvert_exporter": "python",
   "pygments_lexer": "ipython3",
   "version": "3.11.0"
  }
 },
 "nbformat": 4,
 "nbformat_minor": 2
}
