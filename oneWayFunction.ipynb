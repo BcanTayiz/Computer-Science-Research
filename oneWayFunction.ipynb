{
 "cells": [
  {
   "cell_type": "code",
   "execution_count": null,
   "metadata": {},
   "outputs": [],
   "source": [
    "def oneWayFunction(num):\n",
    "    for i in range(5):\n",
    "        numStr = str(num)\n",
    "        length = len(numStr)\n",
    "        if length < 3:\n",
    "            num += num\n",
    "        else:\n",
    "            choosenPart = numStr[0:length//2] + numStr[length//2+1::] \n",
    "            choosenPart = int(choosenPart)\n",
    "            num *= choosenPart\n",
    "        while num % 10 == 0:\n",
    "            num = int(num / 10)\n",
    "    \n",
    "    return num"
   ]
  },
  {
   "cell_type": "code",
   "execution_count": null,
   "metadata": {},
   "outputs": [],
   "source": [
    "oneWayFunction(12399999999999999942384234723412312384324149283192384323412999999999432843749123233)"
   ]
  },
  {
   "cell_type": "code",
   "execution_count": null,
   "metadata": {},
   "outputs": [],
   "source": [
    "oneWayFuncComb(124)"
   ]
  },
  {
   "cell_type": "code",
   "execution_count": null,
   "metadata": {},
   "outputs": [],
   "source": [
    "def brute_force_attack(target_output):\n",
    "    for candidate_input in range(1,100000):  # Adjust the range based on your constraints\n",
    "        if oneWayFunction(candidate_input) == target_output:\n",
    "            return candidate_input\n",
    "\n",
    "# Example usage:\n",
    "target_output = oneWayFunction(12399999999999999942384234723412312384324149283192384323412999999999432843749123233)  # Replace 42 with the actual target output\n",
    "candidate_input = brute_force_attack(target_output)\n",
    "\n",
    "print(\"Target Output:\", target_output)\n",
    "print(\"Candidate Input:\", candidate_input)\n"
   ]
  },
  {
   "cell_type": "code",
   "execution_count": null,
   "metadata": {},
   "outputs": [],
   "source": [
    "def reverseOneWayFunction(result_num):\n",
    "    result_str = str(result_num)\n",
    "    length = len(result_str)\n",
    "\n",
    "    # Reverse the removal of trailing zeros\n",
    "    while result_num % 10 == 0:\n",
    "        result_num = int(result_num / 10)\n",
    "\n",
    "    # Reverse the operations in the loop\n",
    "    for i in range(5):\n",
    "        if length < 3:\n",
    "            result_num = int(result_num / 2)  # Assuming the doubling operation\n",
    "        else:\n",
    "            # Reverse the multiplication by a part of the number\n",
    "            choosenPart = int(result_str[length // 2])\n",
    "            result_num = int(result_num / choosenPart)\n",
    "\n",
    "    return result_num\n",
    "\n",
    "# Example usage\n",
    "original_number = 12345\n",
    "generated_result = oneWayFunction(original_number)\n",
    "reversed_number = reverseOneWayFunction(generated_result)\n",
    "\n",
    "print(\"Original Number:\", original_number)\n",
    "print(\"Generated Result:\", generated_result)\n",
    "print(\"Reversed Number:\", reversed_number)\n"
   ]
  },
  {
   "cell_type": "code",
   "execution_count": null,
   "metadata": {},
   "outputs": [],
   "source": [
    "import random\n",
    "def oneWayFunction(num):\n",
    "    for i in range(100):\n",
    "        numStr = str(num)\n",
    "        length = len(numStr)\n",
    "        if length < 3:\n",
    "            num += num\n",
    "        else:\n",
    "            choosenPart = numStr[0:length//2] + numStr[length//2+1::] \n",
    "            choosenPart = int(choosenPart)\n",
    "            num += choosenPart\n",
    "    \n",
    "    return num\n",
    "\n",
    "def generate_input_output_pairs(num_pairs):\n",
    "    pairs = []\n",
    "    for _ in range(num_pairs):\n",
    "        input_value = random.randint(0, 1000000)\n",
    "        output_value = oneWayFunction(input_value)\n",
    "        pairs.append((input_value, output_value))\n",
    "    return pairs\n",
    "\n",
    "def differential_cryptanalysis_simulation(pairs, target_output):\n",
    "    successful_attacks = 0\n",
    "\n",
    "    for i in range(len(pairs)):\n",
    "        for j in range(i+1, len(pairs)):\n",
    "            pair1 = pairs[i]\n",
    "            pair2 = pairs[j]\n",
    "\n",
    "            input1, output1 = pair1\n",
    "            input2, output2 = pair2\n",
    "\n",
    "            # Check if the outputs are close to the target\n",
    "            if abs(output1 - target_output) < 10 and abs(output2 - target_output) < 10:\n",
    "                # Check if the inputs have a small difference\n",
    "                if abs(input1 - input2) < 5:\n",
    "                    successful_attacks += 1\n",
    "                    # If conditions are met, print the inferred information\n",
    "                    inferred_info = {'input_difference': abs(input1 - input2), 'output_difference': abs(output1 - output2)}\n",
    "                    print(f\"Successful Attack #{successful_attacks}: {inferred_info}\")\n",
    "\n",
    "    return successful_attacks\n",
    "\n",
    "# Simulation parameters\n",
    "num_pairs = 100\n",
    "target_output = oneWayFunction(12399999999999999942384234723412312384324149283192384323412999999999432843749123233)\n",
    "\n",
    "# Generate input-output pairs\n",
    "pairs = generate_input_output_pairs(num_pairs)\n",
    "\n",
    "# Run differential cryptanalysis simulation\n",
    "successful_attacks = differential_cryptanalysis_simulation(pairs, target_output)\n",
    "\n",
    "print(f\"\\nTotal Successful Attacks: {successful_attacks}\")\n"
   ]
  },
  {
   "cell_type": "code",
   "execution_count": null,
   "metadata": {},
   "outputs": [],
   "source": [
    "import random\n",
    "\n",
    "def oneWayFunction(num):\n",
    "    for i in range(10000):\n",
    "        numStr = str(num)\n",
    "        length = len(numStr)\n",
    "        if length < 3:\n",
    "            num += num\n",
    "        else:\n",
    "            choosenPart = numStr[0:length//2] + numStr[length//2+1::] \n",
    "            choosenPart = int(choosenPart)\n",
    "            num += choosenPart\n",
    "    \n",
    "    return num\n",
    "\n",
    "def realistic_chosen_plaintext_attack(target_output, max_attempts=10000):\n",
    "    known_inputs = set()\n",
    "\n",
    "    for num_attempts in range(1, max_attempts + 1):\n",
    "        # Simulate an adversary choosing inputs strategically\n",
    "        if num_attempts % 2 == 0:\n",
    "            plaintext = random.randint(1, 500000)\n",
    "        else:\n",
    "            plaintext = random.randint(500001, 1000000)\n",
    "\n",
    "        # Check if we already know the output for this plaintext\n",
    "        if plaintext in known_inputs:\n",
    "            continue\n",
    "\n",
    "        # Query the oneWayFunction with the chosen plaintext\n",
    "        ciphertext = oneWayFunction(plaintext)\n",
    "\n",
    "        # Check if the output matches the target output\n",
    "        if ciphertext == target_output:\n",
    "            print(f\"Realistic Chosen-Plaintext Attack Successful after {num_attempts} attempts.\")\n",
    "            print(f\"Plaintext: {plaintext}, Ciphertext: {ciphertext}\")\n",
    "            break\n",
    "\n",
    "        # Record the known output for this plaintext\n",
    "        known_inputs.add(plaintext)\n",
    "\n",
    "# Simulation parameters\n",
    "target_output = oneWayFunction(1)\n",
    "\n",
    "# Run realistic chosen-plaintext attack simulation with a limit of 10,000 attempts\n",
    "realistic_chosen_plaintext_attack(target_output, max_attempts=10000000)\n"
   ]
  },
  {
   "cell_type": "code",
   "execution_count": null,
   "metadata": {},
   "outputs": [],
   "source": [
    "import random\n",
    "\n",
    "def oneWayFunction(num):\n",
    "    for i in range(1000):\n",
    "        numStr = str(num)\n",
    "        length = len(numStr)\n",
    "        if length < 3:\n",
    "            num += num\n",
    "        else:\n",
    "            choosenPart = numStr[0:length//2] + numStr[length//2+1::] \n",
    "            choosenPart = int(choosenPart)\n",
    "            num += choosenPart\n",
    "    \n",
    "    return num\n",
    "\n",
    "def side_channel_attack(target_output):\n",
    "    known_inputs = set()\n",
    "    num_attempts = 0\n",
    "\n",
    "    while True:\n",
    "        # Simulate an attacker with partial knowledge about input length\n",
    "        if num_attempts % 2 == 0:\n",
    "            plaintext = random.randint(0, 999)  # Shorter input length\n",
    "        else:\n",
    "            plaintext = random.randint(1000, 9999)  # Longer input length\n",
    "\n",
    "        # Check if we already know the output for this plaintext\n",
    "        if plaintext in known_inputs:\n",
    "            continue\n",
    "\n",
    "        # Query the oneWayFunction with the chosen plaintext\n",
    "        ciphertext = oneWayFunction(plaintext)\n",
    "        num_attempts += 1\n",
    "\n",
    "        # Check if the output matches the target output\n",
    "        if ciphertext == target_output:\n",
    "            print(f\"Side-Channel Attack Successful after {num_attempts} attempts.\")\n",
    "            print(f\"Plaintext: {plaintext}, Ciphertext: {ciphertext}\")\n",
    "            break\n",
    "\n",
    "        # Record the known output for this plaintext\n",
    "        known_inputs.add(plaintext)\n",
    "\n",
    "# Simulation parameters\n",
    "target_output = oneWayFunction(12345)\n",
    "\n",
    "# Run side-channel attack simulation\n",
    "side_channel_attack(target_output)\n"
   ]
  },
  {
   "cell_type": "code",
   "execution_count": null,
   "metadata": {},
   "outputs": [],
   "source": [
    "results = []\n",
    "for i in range(1,10000):\n",
    "    result = oneWayFunction(i)\n",
    "    results.append(result)"
   ]
  },
  {
   "cell_type": "code",
   "execution_count": null,
   "metadata": {},
   "outputs": [],
   "source": [
    "import matplotlib.pyplot as plt\n",
    "plt.plot([i for i in range(len(results))], sorted(results), linestyle='-', color='b',label=\"values\")\n",
    "plt.xlabel('Number of Iterations')\n",
    "plt.ylabel('Mapped Values')\n",
    "plt.title('Execution Time vs Number of Iterations')\n",
    "plt.grid(True)\n",
    "plt.show()"
   ]
  },
  {
   "cell_type": "code",
   "execution_count": null,
   "metadata": {},
   "outputs": [],
   "source": [
    "def oneWayFunction(num):\n",
    "    for i in range(100):\n",
    "        numStr = str(num)\n",
    "        length = len(numStr)\n",
    "        if length < 3:\n",
    "            num += num\n",
    "        else:\n",
    "            choosenPart = numStr[0:length//2] + numStr[length//2+1::] \n",
    "            choosenPart = int(choosenPart)\n",
    "            num += choosenPart\n",
    "    \n",
    "    return num\n",
    "\n",
    "def reverseOneWayFunction(result_num):\n",
    "    for i in range(100):\n",
    "        str_result = str(result_num)\n",
    "        length = len(str_result)\n",
    "\n",
    "        if length < 3:\n",
    "            result_num //= 2\n",
    "        else:\n",
    "            choosenPart = int(str_result[length//2])\n",
    "            result_num -= choosenPart * 10**(length // 2)\n",
    "\n",
    "    return result_num\n",
    "\n",
    "# Example usage\n",
    "original_number = 12346\n",
    "generated_result = oneWayFunction(original_number)\n",
    "reversed_number = reverseOneWayFunction(generated_result)\n",
    "\n",
    "print(\"Original Number:\", original_number)\n",
    "print(\"Generated Result:\", generated_result)\n",
    "print(\"Reversed Number:\", reversed_number)\n"
   ]
  },
  {
   "cell_type": "code",
   "execution_count": null,
   "metadata": {},
   "outputs": [],
   "source": [
    "import matplotlib.pyplot as plt\n",
    "plt.plot([i for i in range(len(boolsValSums))], sorted(boolsValSums), linestyle='-', color='b',label=\"values\")\n",
    "plt.xlabel('Number of Iterations')\n",
    "plt.ylabel('Execution Time (seconds)')\n",
    "plt.title('Execution Time vs Number of Iterations')\n",
    "plt.grid(True)\n",
    "plt.show()"
   ]
  },
  {
   "cell_type": "code",
   "execution_count": null,
   "metadata": {},
   "outputs": [],
   "source": [
    "def oneWayFunction2(num):\n",
    "    for i in range(1,num):\n",
    "        if num > i:\n",
    "            num /= num/i\n",
    "        elif num < i/2:\n",
    "            num *= num/i\n",
    "        else:\n",
    "            num += num\n",
    "\n",
    "    return num"
   ]
  },
  {
   "cell_type": "code",
   "execution_count": null,
   "metadata": {},
   "outputs": [],
   "source": [
    "oneWayFunction2(6)"
   ]
  },
  {
   "cell_type": "code",
   "execution_count": null,
   "metadata": {},
   "outputs": [],
   "source": [
    "results = []\n",
    "for i in range(1,10**4):\n",
    "    result = oneWayFunction2(i)\n",
    "    results.append(result)"
   ]
  },
  {
   "cell_type": "code",
   "execution_count": null,
   "metadata": {},
   "outputs": [],
   "source": [
    "import matplotlib.pyplot as plt\n",
    "plt.plot([i for i in range(len(results))], sorted(results), linestyle='-', color='b',label=\"values\")\n",
    "plt.xlabel('Number of Iterations')\n",
    "plt.ylabel('Function Returns')\n",
    "plt.title('Execution Time vs Number of Iterations')\n",
    "plt.grid(True)\n",
    "plt.show()"
   ]
  },
  {
   "cell_type": "code",
   "execution_count": null,
   "metadata": {},
   "outputs": [],
   "source": [
    "def oneWayFunction2(num):\n",
    "    for i in range(1, num):\n",
    "        if num > i:\n",
    "            num /= num/i\n",
    "        elif num < i/2:\n",
    "            num *= num/i\n",
    "        else:\n",
    "            num += num\n",
    "\n",
    "    return num\n",
    "\n",
    "def reverseOneWayFunction2(result_num):\n",
    "    i = 1\n",
    "    while i < result_num:\n",
    "        # Reverse the logic of the third condition in oneWayFunction2\n",
    "        if result_num > i and result_num % 2 == 0:\n",
    "            result_num -= result_num  # Reverse the doubling in oneWayFunction2\n",
    "            print('reverse if 3')\n",
    "\n",
    "        # Reverse the logic of the second condition in oneWayFunction2\n",
    "        elif result_num < i/2:\n",
    "            result_num /= result_num/i\n",
    "            print('reverse elif 2')\n",
    "\n",
    "        # Reverse the logic of the first condition in oneWayFunction2\n",
    "        elif result_num > i:\n",
    "            result_num *= result_num/i\n",
    "            print('reverse elif 1')\n",
    "        \n",
    "        i += 1\n",
    "\n",
    "    return result_num\n",
    "\n",
    "# Example usage\n",
    "original_number = 12345\n",
    "generated_result = oneWayFunction2(original_number)\n",
    "reversed_number = reverseOneWayFunction2(generated_result)\n",
    "\n",
    "print(\"Original Number:\", original_number)\n",
    "print(\"Generated Result:\", generated_result)\n",
    "print(\"Reversed Number:\", reversed_number)\n"
   ]
  },
  {
   "cell_type": "code",
   "execution_count": null,
   "metadata": {},
   "outputs": [],
   "source": [
    "def oneWayFunction3(num):\n",
    "    for i in range(1,num):\n",
    "        total = 0\n",
    "        for j in range(10):\n",
    "            total += j\n",
    "            if total % 2 == 0:\n",
    "                total -= total/ (i/2)\n",
    "            else:\n",
    "                total += j * j\n",
    "        num += total\n",
    "\n",
    "    return num"
   ]
  },
  {
   "cell_type": "code",
   "execution_count": null,
   "metadata": {},
   "outputs": [],
   "source": [
    "oneWayFunction3(3)"
   ]
  },
  {
   "cell_type": "code",
   "execution_count": null,
   "metadata": {},
   "outputs": [],
   "source": [
    "def reverseOneWayFunction3(result_num):\n",
    "    i = 1\n",
    "    while i < result_num:\n",
    "        total = 0\n",
    "        for j in range(10):\n",
    "            total += j\n",
    "            if total % 2 == 0:\n",
    "                total += total / (i/2)\n",
    "            else:\n",
    "                total -= j * j\n",
    "        if total == result_num:\n",
    "            return i\n",
    "        i += 1\n",
    "\n",
    "    return None  # If no match is found\n",
    "\n",
    "# Example usage\n",
    "generated_result = oneWayFunction3(10)  # Replace with the actual result_num\n",
    "reversed_num = reverseOneWayFunction3(generated_result)\n",
    "\n",
    "print(\"Generated Result:\", generated_result)\n",
    "print(\"Reversed Num:\", reversed_num)\n",
    "\n"
   ]
  },
  {
   "cell_type": "code",
   "execution_count": null,
   "metadata": {},
   "outputs": [],
   "source": [
    "results = []\n",
    "for i in range(1,10**3):\n",
    "    result = oneWayFunction3(i)\n",
    "    results.append(result)"
   ]
  },
  {
   "cell_type": "code",
   "execution_count": null,
   "metadata": {},
   "outputs": [],
   "source": [
    "import matplotlib.pyplot as plt\n",
    "plt.plot([i for i in range(len(results))], sorted(results), linestyle='-', color='b',label=\"values\")\n",
    "plt.xlabel('Number of Iterations')\n",
    "plt.ylabel('Function Returns')\n",
    "plt.title('Execution Time vs Number of Iterations')\n",
    "plt.grid(True)\n",
    "plt.show()"
   ]
  },
  {
   "cell_type": "code",
   "execution_count": null,
   "metadata": {},
   "outputs": [],
   "source": [
    "def oneWayFunction4(num):\n",
    "    i = 1\n",
    "    for k in range(3):\n",
    "        num = num + num * i\n",
    "        i = num / 2\n",
    "        for j in range(1,30):\n",
    "            i += i/num\n",
    "            num += num / j\n",
    "        num -= i\n",
    "        i += 1\n",
    "\n",
    "    return num\n",
    "\n",
    "    "
   ]
  },
  {
   "cell_type": "code",
   "execution_count": null,
   "metadata": {},
   "outputs": [],
   "source": [
    "print(oneWayFunction4(10000))"
   ]
  },
  {
   "cell_type": "code",
   "execution_count": null,
   "metadata": {},
   "outputs": [],
   "source": [
    "def reverseOneWayFunction4(result_num):\n",
    "    i = 1\n",
    "    k = 0\n",
    "    num = result_num  # Initialize num with the given result_num\n",
    "    while k < 2:\n",
    "        i -= 1\n",
    "        j = 9\n",
    "        while j >= 1:\n",
    "            if i != 0:  # Avoid division by zero\n",
    "                num = (num - i) * j / i\n",
    "                i -= i / num\n",
    "            else:\n",
    "                break  # Break out of the loop to avoid division by zero\n",
    "            j -= 1\n",
    "        if i != 0:  # Avoid division by zero\n",
    "            num /= (1 + i)\n",
    "            i = num / 2\n",
    "        else:\n",
    "            break  # Break out of the outer loop to avoid division by zero\n",
    "        k += 1\n",
    "    return num\n",
    "\n",
    "# Example usage\n",
    "generated_result = oneWayFunction4(84)\n",
    "reversed_num = reverseOneWayFunction4(generated_result)\n",
    "\n",
    "print(\"Generated Result:\", generated_result)\n",
    "print(\"Reversed Num:\", reversed_num)\n"
   ]
  },
  {
   "cell_type": "code",
   "execution_count": null,
   "metadata": {},
   "outputs": [],
   "source": [
    "results = []\n",
    "for i in range(1,10**3):\n",
    "    result = oneWayFunction4(i)\n",
    "    results.append(result)"
   ]
  },
  {
   "cell_type": "code",
   "execution_count": null,
   "metadata": {},
   "outputs": [],
   "source": [
    "import matplotlib.pyplot as plt\n",
    "plt.plot([i for i in range(len(results))], sorted(results), linestyle='-', color='b',label=\"values\")\n",
    "plt.xlabel('Number of Iterations')\n",
    "plt.ylabel('Function Returns')\n",
    "plt.title('Execution Time vs Number of Iterations')\n",
    "plt.grid(True)\n",
    "plt.show()"
   ]
  },
  {
   "cell_type": "code",
   "execution_count": null,
   "metadata": {},
   "outputs": [],
   "source": [
    "import matplotlib.pyplot as plt\n",
    "import random\n",
    "\n",
    "limit = 100\n",
    "\n",
    "# Generate random coordinates\n",
    "x = random.uniform(0, limit)\n",
    "y = random.uniform(0, limit)\n",
    "\n",
    "# Plot the random point\n",
    "plt.plot(range(limit))\n",
    "plt.scatter(x, y, color='red', marker='o')\n",
    "plt.title('Random Point on 2D Plane')\n",
    "plt.xlabel('X-axis')\n",
    "plt.ylabel('Y-axis')\n",
    "plt.grid(True)\n",
    "plt.show()\n",
    "\n"
   ]
  },
  {
   "cell_type": "markdown",
   "metadata": {},
   "source": [
    "# Ciphher One System"
   ]
  },
  {
   "cell_type": "code",
   "execution_count": 3,
   "metadata": {},
   "outputs": [],
   "source": [
    "import string\n",
    "import random\n",
    "def charNumComb(num,message):\n",
    "   num = num % 1000\n",
    "   chars = message\n",
    "   keys = [int(random.uniform(i,int(num**(1/2)))) for i in range(1,int(num**(1/2)))] \n",
    "   nums = keys[:]\n",
    "   stringVals = []\n",
    "   x = 0\n",
    "   iter = 0\n",
    "   while len(stringVals) < 1000:\n",
    "      x = keys[0]\n",
    "      num_start = nums[x]\n",
    "      nums.append(x)\n",
    "      stringVals.append(str(num_start))\n",
    "      for i in range(3):\n",
    "         x += iter + i\n",
    "         x = int(x**2/(iter+1)) % len(chars)\n",
    "         stringVals.append(chars[x])\n",
    "      nums = sorted([(i+num) for i in nums])\n",
    "      iter += 1\n",
    "\n",
    "   return \"\".join(stringVals),keys"
   ]
  },
  {
   "cell_type": "code",
   "execution_count": 2,
   "metadata": {},
   "outputs": [
    {
     "data": {
      "text/plain": [
       "('16oow450n w882dy 1313ohw1744dud2176hdn2608t d3040w t3471w y3903owo4335nnw4767no 5198no 5628nwt6060n d6491nwo6919nwo6927nhn6927otd6927oho6927w  6927wit6927  u6927w  6927w  6927hwo6927aat6927th 6927thk6927 i 6927t h6927h s6927h d6927aw 6927tas6927 hw6927iio6927soh6927dtu6927d o6927oah6927 io6927yos6927oo 6927uka6927 wi6927kao6927nth6927oto6927o k6927wdu6927 oa6927wki6927h n6927aat6927tho6927  h6927tdw6927ho 6927ank6927t t6927 t 6927ihw6927sii6927dto6927dhh6927o i6927 di6927yyu6927o w6927uot6927 wo6927ktw6927nht6927oin6927won6927 ot6927wki6927h n6927aa 6927tto6927   6927tdh6927hyt6927aku6927twh6927 as6927itk6927stt6927dhw6927o t6927 di6927yyu6927o w6927uot6927 wy6927kt 6927nha6927nas6927oik6927woo6927 uh6927wno6927h o6927aat6927thy6927   6927tda6927hy 6927ak 6927twa6927 h 6927itk6927stt6927daa6927oii6927 oo6927yon6927okt6927uws6927 h 6927k a6927nai6927oi 6927woo6927 o 6927wno6927h o6927aa 6927ttd6927 tn6927tda6927hy 6927a o6927to 6927 h 6927i u6927saw6927dah6927oi 6927 oo6927yon6927okt6927uwi6927 h 6927k h6927na 6927oiu6927woo6927 o 6927wks6927h n6927aa 6927ttd6927 tk6927tst6927hy 6927a o6927to 6927 wa6927i o6927saw6927dah6927oi 6927 oo6927yon6927okt6927uwi6927 h 6927k h6927na 6927oiu6927woo6927 o 6927wks6927hw 6927aa 6927tts6927 tk6927tst6927h a6927au 6927to 6927 wh6927it 6927sho6927dah6927oit6927 oo6927yon6927okt6927uwi6927 h 6927k h6927na 6927oio6927osk6927w w6927 ua6927wn 6927h o6927aat6927th 6927  w6927tdt6927hyi6927a u6927tow6927 h 6927i u6927saw6927dt 6927oss6927  o6927yu 6927onh6927u o6927 ao6927kt 6927ntd6927osk6927w w6927 ua6927wn 6927h o6927aa 6927ttd6927  w6927tdt6927hyi6927a u6927tow6927 wa6927i u6927saw6927dtt6927oss6927  o6927yu 6927onh6927u o6927 an6927kt 6927nts6927osk6927w w6927 ua6927wn 6927h o6927aa ',\n",
       " [15, 7, 12, 18, 11, 12, 16, 16, 14, 15, 18, 18, 16, 18, 15, 16, 17, 18, 19])"
      ]
     },
     "execution_count": 2,
     "metadata": {},
     "output_type": "execute_result"
    }
   ],
   "source": [
    "charNumComb(12392930432,\"do you know what that is\")"
   ]
  },
  {
   "cell_type": "code",
   "execution_count": null,
   "metadata": {},
   "outputs": [],
   "source": [
    "import string\n",
    "\n",
    "def attackCharNumComb(ciphertext):\n",
    "    chars = string.ascii_letters\n",
    "    nums = [1, 2, 3, 4, 5, 6, 7, 8, 9]\n",
    "\n",
    "    result = []\n",
    "    x = 0\n",
    "\n",
    "    for i in range(len(ciphertext)):\n",
    "        x = x % len(nums)\n",
    "        num_start = nums[x]\n",
    "        nums.append(x)\n",
    "\n",
    "        # Move to the next character in the ciphertext\n",
    "        x += i\n",
    "        x = x % len(chars)\n",
    "\n",
    "        # Append the corresponding character from the character set\n",
    "        result.append(chars[x])\n",
    "\n",
    "        # Move to the next numeric value in the original sequence\n",
    "        x += 1\n",
    "\n",
    "    # Join the result list to get the attacked plaintext\n",
    "    attacked_text = \"\".join(result)\n",
    "\n",
    "    return attacked_text\n",
    "\n",
    "# Example usage\n",
    "num_to_attack = 10  # Replace with the actual input to charNumComb\n",
    "ciphertext_to_attack = charNumComb(num_to_attack)\n",
    "attacked_result = attackCharNumComb(ciphertext_to_attack)\n",
    "\n",
    "print(\"Original Num:\", num_to_attack)\n",
    "print(\"Ciphertext:\", ciphertext_to_attack)\n",
    "print(\"Attacked Result:\", attacked_result)\n"
   ]
  },
  {
   "cell_type": "code",
   "execution_count": 4,
   "metadata": {},
   "outputs": [
    {
     "name": "stdout",
     "output_type": "stream",
     "text": [
      "Original Num: 1000\n",
      "Ciphertext: a900e-221b-455b-663e-812a-912d-981b-1031d-1072d-1108g-1141\n"
     ]
    }
   ],
   "source": [
    "import string\n",
    "\n",
    "def chiperOne(num, message):\n",
    "    val = num\n",
    "    x = 0.1\n",
    "    messageList = list(message)\n",
    "    chars = string.ascii_letters\n",
    "    stringVal = ''\n",
    "\n",
    "    for i in range(1, len(messageList)):\n",
    "        num = int(num * (1 - x))\n",
    "        letter = chars[messageList.index(messageList[num % len(message)]) % len(chars)]\n",
    "        stringVal += letter\n",
    "        stringVal += str(num)\n",
    "\n",
    "        # Adjust num based on conditions\n",
    "        while num < val * 0.4:\n",
    "            num = int(num * (1 + x))\n",
    "            if num < val * 0.1 or num < 0:\n",
    "                break\n",
    "        while num > val * 0.6:\n",
    "            num = int(num * (1 - x))\n",
    "            if num > val * 2 or num < 0:\n",
    "                break\n",
    "        num = abs(num**(1/2))\n",
    "\n",
    "        x += 1 / x\n",
    "\n",
    "    return stringVal\n",
    "\n",
    "# Example usage\n",
    "num_to_encrypt = 1000\n",
    "message_to_encrypt = \"what is this\"\n",
    "ciphertext = chiperOne(num_to_encrypt, message_to_encrypt)\n",
    "\n",
    "print(\"Original Num:\", num_to_encrypt)\n",
    "print(\"Ciphertext:\", ciphertext)\n"
   ]
  },
  {
   "cell_type": "code",
   "execution_count": 10,
   "metadata": {},
   "outputs": [
    {
     "data": {
      "text/plain": [
       "'q89999999999999993876697845098623117739340772855152911474021622402307855115556183498193921454781273150584746676909065886472213448953844137957338775965189557862993367853951931189543498629033814166339584f-69927445899303366326559603238542908793633763653693774009322506244708813221263944382935909508898095104d-8104503397327136481419676685142762392493357635993600e-2800906352628381491029606400f-1671054344826118d-1309544847g-1175849f-35728e-6313g-2689C-1778f-1465J-1347B-1308J-1305g-1319c-1342q-1370C-1400c-1432g-1464c-1497g-1531b-1565J-1599f-1633e-1668q-1703d-1738d-1773n-1808e-1844f-1880q-1916v-1953d-1990b-2027B-2064g-2101d-2139e-2177'"
      ]
     },
     "execution_count": 10,
     "metadata": {},
     "output_type": "execute_result"
    }
   ],
   "source": [
    "chiperOne(len(),\"what is this dialoblic system that rewards\")"
   ]
  },
  {
   "cell_type": "code",
   "execution_count": null,
   "metadata": {},
   "outputs": [],
   "source": []
  },
  {
   "cell_type": "code",
   "execution_count": 11,
   "metadata": {},
   "outputs": [
    {
     "name": "stdout",
     "output_type": "stream",
     "text": [
      "i193947370492383199232c-102652223095e-9819440d-97494d-9858a-3180e-1832d-1410d-1254c-1198b-1187\n"
     ]
    },
    {
     "ename": "KeyboardInterrupt",
     "evalue": "",
     "output_type": "error",
     "traceback": [
      "\u001b[1;31m---------------------------------------------------------------------------\u001b[0m",
      "\u001b[1;31mKeyboardInterrupt\u001b[0m                         Traceback (most recent call last)",
      "Cell \u001b[1;32mIn[11], line 33\u001b[0m\n\u001b[0;32m     30\u001b[0m \u001b[38;5;28mprint\u001b[39m(target_output)\n\u001b[0;32m     32\u001b[0m \u001b[38;5;66;03m# Run realistic chosen-plaintext attack simulation with a limit of 10,000 attempts\u001b[39;00m\n\u001b[1;32m---> 33\u001b[0m \u001b[43mrealistic_chosen_plaintext_attack\u001b[49m\u001b[43m(\u001b[49m\u001b[43mtarget_output\u001b[49m\u001b[43m,\u001b[49m\u001b[43m \u001b[49m\u001b[43mmax_attempts\u001b[49m\u001b[38;5;241;43m=\u001b[39;49m\u001b[38;5;241;43m10000000\u001b[39;49m\u001b[43m)\u001b[49m\n",
      "Cell \u001b[1;32mIn[11], line 10\u001b[0m, in \u001b[0;36mrealistic_chosen_plaintext_attack\u001b[1;34m(target_output, max_attempts)\u001b[0m\n\u001b[0;32m      8\u001b[0m     plaintext \u001b[38;5;241m=\u001b[39m random\u001b[38;5;241m.\u001b[39mrandint(\u001b[38;5;241m10\u001b[39m\u001b[38;5;241m*\u001b[39m\u001b[38;5;241m*\u001b[39m\u001b[38;5;241m20\u001b[39m, \u001b[38;5;241m10\u001b[39m\u001b[38;5;241m*\u001b[39m\u001b[38;5;241m*\u001b[39m\u001b[38;5;241m21\u001b[39m \u001b[38;5;241m/\u001b[39m \u001b[38;5;241m2\u001b[39m)\n\u001b[0;32m      9\u001b[0m \u001b[38;5;28;01melse\u001b[39;00m:\n\u001b[1;32m---> 10\u001b[0m     plaintext \u001b[38;5;241m=\u001b[39m \u001b[43mrandom\u001b[49m\u001b[38;5;241;43m.\u001b[39;49m\u001b[43mrandint\u001b[49m\u001b[43m(\u001b[49m\u001b[38;5;241;43m10\u001b[39;49m\u001b[38;5;241;43m*\u001b[39;49m\u001b[38;5;241;43m*\u001b[39;49m\u001b[38;5;241;43m21\u001b[39;49m\u001b[38;5;241;43m/\u001b[39;49m\u001b[38;5;241;43m2\u001b[39;49m\u001b[38;5;241;43m+\u001b[39;49m\u001b[38;5;241;43m1\u001b[39;49m\u001b[43m,\u001b[49m\u001b[43m \u001b[49m\u001b[38;5;241;43m10\u001b[39;49m\u001b[38;5;241;43m*\u001b[39;49m\u001b[38;5;241;43m*\u001b[39;49m\u001b[38;5;241;43m21\u001b[39;49m\u001b[43m)\u001b[49m\n\u001b[0;32m     12\u001b[0m \u001b[38;5;66;03m# Check if we already know the output for this plaintext\u001b[39;00m\n\u001b[0;32m     13\u001b[0m \u001b[38;5;28;01mif\u001b[39;00m plaintext \u001b[38;5;129;01min\u001b[39;00m known_inputs:\n",
      "File \u001b[1;32mc:\\Users\\brs_c\\AppData\\Local\\Programs\\Python\\Python311\\Lib\\random.py:362\u001b[0m, in \u001b[0;36mRandom.randint\u001b[1;34m(self, a, b)\u001b[0m\n\u001b[0;32m    358\u001b[0m \u001b[38;5;28;01mdef\u001b[39;00m \u001b[38;5;21mrandint\u001b[39m(\u001b[38;5;28mself\u001b[39m, a, b):\n\u001b[0;32m    359\u001b[0m \u001b[38;5;250m    \u001b[39m\u001b[38;5;124;03m\"\"\"Return random integer in range [a, b], including both end points.\u001b[39;00m\n\u001b[0;32m    360\u001b[0m \u001b[38;5;124;03m    \"\"\"\u001b[39;00m\n\u001b[1;32m--> 362\u001b[0m     \u001b[38;5;28;01mreturn\u001b[39;00m \u001b[38;5;28;43mself\u001b[39;49m\u001b[38;5;241;43m.\u001b[39;49m\u001b[43mrandrange\u001b[49m\u001b[43m(\u001b[49m\u001b[43ma\u001b[49m\u001b[43m,\u001b[49m\u001b[43m \u001b[49m\u001b[43mb\u001b[49m\u001b[38;5;241;43m+\u001b[39;49m\u001b[38;5;241;43m1\u001b[39;49m\u001b[43m)\u001b[49m\n",
      "File \u001b[1;32mc:\\Users\\brs_c\\AppData\\Local\\Programs\\Python\\Python311\\Lib\\random.py:344\u001b[0m, in \u001b[0;36mRandom.randrange\u001b[1;34m(self, start, stop, step)\u001b[0m\n\u001b[0;32m    342\u001b[0m \u001b[38;5;28;01mif\u001b[39;00m istep \u001b[38;5;241m==\u001b[39m \u001b[38;5;241m1\u001b[39m:\n\u001b[0;32m    343\u001b[0m     \u001b[38;5;28;01mif\u001b[39;00m width \u001b[38;5;241m>\u001b[39m \u001b[38;5;241m0\u001b[39m:\n\u001b[1;32m--> 344\u001b[0m         \u001b[38;5;28;01mreturn\u001b[39;00m istart \u001b[38;5;241m+\u001b[39m \u001b[38;5;28;43mself\u001b[39;49m\u001b[38;5;241;43m.\u001b[39;49m\u001b[43m_randbelow\u001b[49m\u001b[43m(\u001b[49m\u001b[43mwidth\u001b[49m\u001b[43m)\u001b[49m\n\u001b[0;32m    345\u001b[0m     \u001b[38;5;28;01mraise\u001b[39;00m \u001b[38;5;167;01mValueError\u001b[39;00m(\u001b[38;5;124m\"\u001b[39m\u001b[38;5;124mempty range for randrange() (\u001b[39m\u001b[38;5;132;01m%d\u001b[39;00m\u001b[38;5;124m, \u001b[39m\u001b[38;5;132;01m%d\u001b[39;00m\u001b[38;5;124m, \u001b[39m\u001b[38;5;132;01m%d\u001b[39;00m\u001b[38;5;124m)\u001b[39m\u001b[38;5;124m\"\u001b[39m \u001b[38;5;241m%\u001b[39m (istart, istop, width))\n\u001b[0;32m    347\u001b[0m \u001b[38;5;66;03m# Non-unit step argument supplied.\u001b[39;00m\n",
      "File \u001b[1;32mc:\\Users\\brs_c\\AppData\\Local\\Programs\\Python\\Python311\\Lib\\random.py:240\u001b[0m, in \u001b[0;36mRandom._randbelow_with_getrandbits\u001b[1;34m(self, n)\u001b[0m\n\u001b[0;32m    238\u001b[0m getrandbits \u001b[38;5;241m=\u001b[39m \u001b[38;5;28mself\u001b[39m\u001b[38;5;241m.\u001b[39mgetrandbits\n\u001b[0;32m    239\u001b[0m k \u001b[38;5;241m=\u001b[39m n\u001b[38;5;241m.\u001b[39mbit_length()  \u001b[38;5;66;03m# don't use (n-1) here because n can be 1\u001b[39;00m\n\u001b[1;32m--> 240\u001b[0m r \u001b[38;5;241m=\u001b[39m getrandbits(k)  \u001b[38;5;66;03m# 0 <= r < 2**k\u001b[39;00m\n\u001b[0;32m    241\u001b[0m \u001b[38;5;28;01mwhile\u001b[39;00m r \u001b[38;5;241m>\u001b[39m\u001b[38;5;241m=\u001b[39m n:\n\u001b[0;32m    242\u001b[0m     r \u001b[38;5;241m=\u001b[39m getrandbits(k)\n",
      "\u001b[1;31mKeyboardInterrupt\u001b[0m: "
     ]
    }
   ],
   "source": [
    "import random\n",
    "def realistic_chosen_plaintext_attack(target_output, max_attempts=10000):\n",
    "    known_inputs = set()\n",
    "\n",
    "    for num_attempts in range(1, max_attempts + 1):\n",
    "        # Simulate an adversary choosing inputs strategically\n",
    "        if num_attempts % 2 == 0:\n",
    "            plaintext = random.randint(10**20, 10**21 / 2)\n",
    "        else:\n",
    "            plaintext = random.randint(10**21/2+1, 10**21)\n",
    "\n",
    "        # Check if we already know the output for this plaintext\n",
    "        if plaintext in known_inputs:\n",
    "            continue\n",
    "\n",
    "        # Query the oneWayFunction with the chosen plaintext\n",
    "        ciphertext = chiperOne(plaintext,'this is good')\n",
    "\n",
    "        # Check if the output matches the target output\n",
    "        if ciphertext == target_output:\n",
    "            print(f\"Realistic Chosen-Plaintext Attack Successful after {num_attempts} attempts.\")\n",
    "            print(f\"Plaintext: {plaintext}, Ciphertext: {ciphertext}\")\n",
    "            break\n",
    "\n",
    "        # Record the known output for this plaintext\n",
    "        known_inputs.add(plaintext)\n",
    "\n",
    "# Simulation parameters\n",
    "target_output = chiperOne(random.randint(10**20,10**21),'this is good')\n",
    "print(target_output)\n",
    "\n",
    "# Run realistic chosen-plaintext attack simulation with a limit of 10,000 attempts\n",
    "realistic_chosen_plaintext_attack(target_output, max_attempts=10000000)\n"
   ]
  },
  {
   "cell_type": "markdown",
   "metadata": {},
   "source": []
  },
  {
   "cell_type": "code",
   "execution_count": null,
   "metadata": {},
   "outputs": [],
   "source": [
    "chiperOne(12384739203429394923402030402394910230032349938283400123,\"I cannot understand thi specific genre \")"
   ]
  },
  {
   "cell_type": "code",
   "execution_count": 75,
   "metadata": {},
   "outputs": [
    {
     "name": "stdout",
     "output_type": "stream",
     "text": [
      "[135.0, 143.0, 150.0, 185.0, 189.0, 193.0, 197.0, 201.0, 205.0, 209.0, 210.0, 274.0, 276.0, 278.0, 280.0, 282.0, 284.0, 286.0, 288.0, 290.0, 292.0, 294.0, 296.0, 298.0, 300.0, 302.0, 304.0, 306.0, 308.0, 310.0, 312.0, 314.0, 316.0, 318.0, 320.0, 322.0, 324.0, 326.0, 328.0, 330.0, 450.0, 461.0, 465.0]\n"
     ]
    }
   ],
   "source": [
    "import numpy as np\n",
    "\n",
    "def oneWayFunctionList(array=None, iter=5,num =10):\n",
    "    # Initialize array if not provided\n",
    "    if array is None:\n",
    "        array = [i for i in range(num,iter+num)]\n",
    "        array = [sum(array[0:i]) for i in range(num,iter+num)]\n",
    "    \n",
    "    # Calculate mean and median only once to avoid recalculating\n",
    "    mean_value = np.mean(array)\n",
    "    median_value = np.median(array)\n",
    "\n",
    "    loop = iter\n",
    "    \n",
    "    # Check the condition using the calculated mean and median\n",
    "    if mean_value < median_value:\n",
    "        array.extend(range(int(mean_value), int(median_value)))\n",
    "        for i in range(len(array)):\n",
    "            array.append(median_value + min(array))\n",
    "            if array[i] < median_value:\n",
    "                array.remove(array[i])\n",
    "    else:\n",
    "        array.extend(range(int(median_value), int(mean_value)))\n",
    "        for i in range(len(array)):\n",
    "            array.append(mean_value+min(array))\n",
    "            if array[i] < mean_value:\n",
    "                array.remove(array[i])\n",
    "    \n",
    "    iter -= 1\n",
    "    if iter <= 0:\n",
    "        return list(np.unique(array))\n",
    "    \n",
    "    # Recursive call with the updated array\n",
    "    return oneWayFunctionList(array, iter)\n",
    "\n",
    "# Example usage:\n",
    "result_array = oneWayFunctionList()\n",
    "print(result_array)\n"
   ]
  },
  {
   "cell_type": "code",
   "execution_count": 76,
   "metadata": {},
   "outputs": [
    {
     "name": "stdout",
     "output_type": "stream",
     "text": [
      "[250.0, 345.0, 377.0, 378.0, 432.0, 448.0, 464.0, 480.0, 486.0, 596.0, 604.0, 612.0, 620.0, 628.0, 636.0, 644.0, 652.0, 660.0, 668.0, 676.0, 684.0, 692.0, 700.0, 702.0, 809.0, 813.0, 817.0, 821.0, 825.0, 829.0, 833.0, 837.0, 841.0, 845.0, 849.0, 853.0, 857.0, 861.0, 865.0, 869.0, 873.0, 877.0, 881.0, 885.0, 889.0, 893.0, 897.0, 901.0, 905.0, 909.0, 913.0, 917.0, 921.0, 925.0, 929.0, 933.0, 936.0, 1044.0, 1046.0, 1048.0, 1050.0, 1052.0, 1054.0, 1056.0, 1058.0, 1060.0, 1062.0, 1064.0, 1066.0, 1068.0, 1070.0, 1072.0, 1074.0, 1076.0, 1078.0, 1080.0, 1082.0, 1084.0, 1086.0, 1088.0, 1090.0, 1092.0, 1094.0, 1096.0, 1098.0, 1100.0, 1102.0, 1104.0, 1106.0, 1108.0, 1110.0, 1112.0, 1114.0, 1116.0, 1118.0, 1120.0, 1122.0, 1124.0, 1126.0, 1128.0, 1130.0, 1132.0, 1134.0, 1136.0, 1138.0, 1140.0, 1142.0, 1144.0, 1146.0, 1148.0, 1150.0, 1152.0, 1154.0, 1156.0, 1158.0, 1160.0, 1162.0, 1164.0, 1166.0, 1168.0, 1170.0, 1172.0, 1174.0, 1176.0, 1178.0, 1180.0, 1182.0, 1184.0, 1186.0, 1436.0]\n"
     ]
    }
   ],
   "source": [
    "result_array = oneWayFunctionList(iter=8)\n",
    "print(result_array)"
   ]
  },
  {
   "cell_type": "code",
   "execution_count": 89,
   "metadata": {},
   "outputs": [
    {
     "name": "stdout",
     "output_type": "stream",
     "text": [
      "0\n",
      "1\n",
      "2\n",
      "3\n",
      "4\n",
      "5\n",
      "6\n",
      "7\n",
      "8\n",
      "9\n"
     ]
    }
   ],
   "source": [
    "def createSequence(num=3):\n",
    "    result_array = oneWayFunctionList(iter=3,num=num)\n",
    "\n",
    "    for i in range(10):\n",
    "        print(i)\n",
    "        result_array = oneWayFunctionList(result_array.copy(), iter=3,num=num)\n",
    "\n",
    "    return result_array\n",
    "\n",
    "resultFinal = createSequence(num=10)\n"
   ]
  },
  {
   "cell_type": "code",
   "execution_count": 90,
   "metadata": {},
   "outputs": [
    {
     "data": {
      "image/png": "[encoded data removed]",
      "text/plain": [
       "<Figure size 640x480 with 1 Axes>"
      ]
     },
     "metadata": {},
     "output_type": "display_data"
    }
   ],
   "source": [
    "import matplotlib.pyplot as plt\n",
    "plt.plot([i for i in range(len(resultFinal))], sorted(resultFinal), linestyle='-', color='b',label=\"values\")\n",
    "plt.xlabel('Number of Iterations')\n",
    "plt.ylabel('Mapped Values')\n",
    "plt.title('Execution Time vs Number of Iterations')\n",
    "plt.grid(True)\n",
    "plt.show()"
   ]
  },
  {
   "cell_type": "markdown",
   "metadata": {},
   "source": [
    "# Root Chiper"
   ]
  },
  {
   "cell_type": "code",
   "execution_count": 92,
   "metadata": {},
   "outputs": [
    {
     "data": {
      "text/plain": [
       "(212.67347769736935, 499.99999999999994)"
      ]
     },
     "execution_count": 92,
     "metadata": {},
     "output_type": "execute_result"
    }
   ],
   "source": [
    "import random\n",
    "import numpy as np\n",
    "import math\n",
    "\n",
    "\n",
    "def rootsLimit(array,k):\n",
    "    sumRoots = sum([val**k for val in array])\n",
    "    return sumRoots,(((((np.mean(array)*len(array)))**k)*(1/k))*(len(array)))/(np.mean(array)**k) /2**(2) \n",
    "\n",
    "array = [int(random.uniform(1,10)) for i in range(100)]\n",
    "rootsLimit(array,0.5)"
   ]
  },
  {
   "cell_type": "code",
   "execution_count": 97,
   "metadata": {},
   "outputs": [],
   "source": [
    "import time\n",
    "acc = 0\n",
    "iter = 1000\n",
    "values_diff_1 = []\n",
    "values_diff_2 = []\n",
    "exec_time_1 = []\n",
    "exec_time_2 = []\n",
    "seq_main = np.zeros(10000)\n",
    "\n",
    "for i in range(iter):\n",
    "    length = int(random.uniform(10, 10000))\n",
    "    seq_a = [int(random.uniform(5, 1000)) for _ in range(length)]\n",
    "    seq_b = [int(random.uniform(5, 1000)) for _ in range(length)]\n",
    "\n",
    "    start = time.time()\n",
    "    result_1, convResult_1 = rootsLimit(seq_a, k=0.5)\n",
    "    exec_time_1.append(time.time() - start)\n",
    "\n",
    "    start = time.time()\n",
    "    result_2, convResult_2 = rootsLimit(seq_b, k=0.5)\n",
    "    exec_time_2.append(time.time() - start)\n",
    "\n",
    "    # Extend seq_a and seq_b with zeros to match the length of seq_main\n",
    "    seq_a_extended = np.concatenate([seq_a, np.zeros(len(seq_main) - len(seq_a))])\n",
    "    seq_b_extended = np.concatenate([seq_b, np.zeros(len(seq_main) - len(seq_b))])\n",
    "\n",
    "    if result_1 >= result_2 and convResult_1 >= convResult_2:\n",
    "        seq_main += seq_a_extended + seq_b_extended\n",
    "    elif result_1 < result_2 and convResult_1 < convResult_2:\n",
    "        seq_main += seq_a_extended - seq_b_extended\n",
    "    else:\n",
    "        seq_main = seq_main / 2  # Updated this line to correct the calculation\n"
   ]
  },
  {
   "cell_type": "code",
   "execution_count": 98,
   "metadata": {},
   "outputs": [
    {
     "data": {
      "text/plain": [
       "array([2765.06773323, 2135.54856674, 2336.57837651, ...,    0.        ,\n",
       "          0.        ,    0.        ])"
      ]
     },
     "execution_count": 98,
     "metadata": {},
     "output_type": "execute_result"
    }
   ],
   "source": [
    "seq_main"
   ]
  },
  {
   "cell_type": "code",
   "execution_count": null,
   "metadata": {},
   "outputs": [],
   "source": []
  }
 ],
 "metadata": {
  "kernelspec": {
   "display_name": "Python 3",
   "language": "python",
   "name": "python3"
  },
  "language_info": {
   "codemirror_mode": {
    "name": "ipython",
    "version": 3
   },
   "file_extension": ".py",
   "mimetype": "text/x-python",
   "name": "python",
   "nbconvert_exporter": "python",
   "pygments_lexer": "ipython3",
   "version": "3.11.0"
  }
 },
 "nbformat": 4,
 "nbformat_minor": 2
}
